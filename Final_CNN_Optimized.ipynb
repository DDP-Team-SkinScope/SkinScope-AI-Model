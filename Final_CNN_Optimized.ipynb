{
  "nbformat": 4,
  "nbformat_minor": 0,
  "metadata": {
    "colab": {
      "provenance": [],
      "gpuType": "L4"
    },
    "kernelspec": {
      "name": "python3",
      "display_name": "Python 3"
    },
    "language_info": {
      "name": "python"
    },
    "accelerator": "GPU"
  },
  "cells": [
    {
      "cell_type": "code",
      "execution_count": null,
      "metadata": {
        "colab": {
          "base_uri": "https://localhost:8080/"
        },
        "id": "rv_UabmSGooj",
        "outputId": "f9ac1d66-eba8-4d45-8f55-e855923da26b"
      },
      "outputs": [
        {
          "output_type": "stream",
          "name": "stdout",
          "text": [
            "Using device: cuda:0\n",
            "\n",
            "===== Setting up HAM10000 Dataset =====\n",
            "Downloading HAM10000 dataset...\n",
            "--2025-04-20 00:40:39--  https://isic-challenge-data.s3.amazonaws.com/2018/ISIC2018_Task3_Training_Input.zip\n",
            "Resolving isic-challenge-data.s3.amazonaws.com (isic-challenge-data.s3.amazonaws.com)... 54.231.226.9, 3.5.0.27, 52.216.210.81, ...\n",
            "Connecting to isic-challenge-data.s3.amazonaws.com (isic-challenge-data.s3.amazonaws.com)|54.231.226.9|:443... connected.\n",
            "HTTP request sent, awaiting response... 200 OK\n",
            "Length: 2771732744 (2.6G) [application/zip]\n",
            "Saving to: ‘/content/skin_datasets/ham10000/ISIC2018_Task3_Training_Input.zip’\n",
            "\n",
            "/content/skin_datas 100%[===================>]   2.58G  57.8MB/s    in 51s     \n",
            "\n",
            "2025-04-20 00:41:30 (51.9 MB/s) - ‘/content/skin_datasets/ham10000/ISIC2018_Task3_Training_Input.zip’ saved [2771732744/2771732744]\n",
            "\n",
            "--2025-04-20 00:41:31--  https://isic-challenge-data.s3.amazonaws.com/2018/ISIC2018_Task3_Training_GroundTruth.zip\n",
            "Resolving isic-challenge-data.s3.amazonaws.com (isic-challenge-data.s3.amazonaws.com)... 3.5.2.152, 54.231.129.185, 3.5.29.165, ...\n",
            "Connecting to isic-challenge-data.s3.amazonaws.com (isic-challenge-data.s3.amazonaws.com)|3.5.2.152|:443... connected.\n",
            "HTTP request sent, awaiting response... 200 OK\n",
            "Length: 36681 (36K) [application/zip]\n",
            "Saving to: ‘/content/skin_datasets/ham10000/ISIC2018_Task3_Training_GroundTruth.zip’\n",
            "\n",
            "/content/skin_datas 100%[===================>]  35.82K  --.-KB/s    in 0.06s   \n",
            "\n",
            "2025-04-20 00:41:31 (583 KB/s) - ‘/content/skin_datasets/ham10000/ISIC2018_Task3_Training_GroundTruth.zip’ saved [36681/36681]\n",
            "\n",
            "--2025-04-20 00:41:31--  https://isic-challenge-data.s3.amazonaws.com/2018/ISIC2018_Task3_Training_LesionGroupings.csv\n",
            "Resolving isic-challenge-data.s3.amazonaws.com (isic-challenge-data.s3.amazonaws.com)... 3.5.2.152, 54.231.129.185, 3.5.29.165, ...\n",
            "Connecting to isic-challenge-data.s3.amazonaws.com (isic-challenge-data.s3.amazonaws.com)|3.5.2.152|:443... connected.\n",
            "HTTP request sent, awaiting response... 200 OK\n",
            "Length: 492996 (481K) [text/csv]\n",
            "Saving to: ‘/content/skin_datasets/ham10000/ISIC2018_Task3_Training_LesionGroupings.csv’\n",
            "\n",
            "/content/skin_datas 100%[===================>] 481.44K  1.91MB/s    in 0.2s    \n",
            "\n",
            "2025-04-20 00:41:31 (1.91 MB/s) - ‘/content/skin_datasets/ham10000/ISIC2018_Task3_Training_LesionGroupings.csv’ saved [492996/492996]\n",
            "\n",
            "Extracting HAM10000 files...\n",
            "\n",
            "===== Setting up ISIC 2019 Dataset =====\n",
            "Downloading ISIC 2019 files...\n",
            "--2025-04-20 00:41:49--  https://isic-challenge-data.s3.amazonaws.com/2019/ISIC_2019_Training_Input.zip\n",
            "Resolving isic-challenge-data.s3.amazonaws.com (isic-challenge-data.s3.amazonaws.com)... 52.216.76.220, 16.182.37.73, 52.217.142.201, ...\n",
            "Connecting to isic-challenge-data.s3.amazonaws.com (isic-challenge-data.s3.amazonaws.com)|52.216.76.220|:443... connected.\n",
            "HTTP request sent, awaiting response... 200 OK\n",
            "Length: 9771618190 (9.1G) [application/zip]\n",
            "Saving to: ‘/content/skin_datasets/isic2019/ISIC_2019_Training_Input.zip’\n",
            "\n",
            "/content/skin_datas 100%[===================>]   9.10G  53.2MB/s    in 3m 44s  \n",
            "\n",
            "2025-04-20 00:45:34 (41.6 MB/s) - ‘/content/skin_datasets/isic2019/ISIC_2019_Training_Input.zip’ saved [9771618190/9771618190]\n",
            "\n",
            "--2025-04-20 00:45:34--  https://isic-challenge-data.s3.amazonaws.com/2019/ISIC_2019_Training_Metadata.csv\n",
            "Resolving isic-challenge-data.s3.amazonaws.com (isic-challenge-data.s3.amazonaws.com)... 52.217.136.209, 3.5.22.93, 52.216.209.177, ...\n",
            "Connecting to isic-challenge-data.s3.amazonaws.com (isic-challenge-data.s3.amazonaws.com)|52.217.136.209|:443... connected.\n",
            "HTTP request sent, awaiting response... 200 OK\n",
            "Length: 1214351 (1.2M) [text/csv]\n",
            "Saving to: ‘/content/skin_datasets/isic2019/ISIC_2019_Training_Metadata.csv’\n",
            "\n",
            "/content/skin_datas 100%[===================>]   1.16M  3.17MB/s    in 0.4s    \n",
            "\n",
            "2025-04-20 00:45:34 (3.17 MB/s) - ‘/content/skin_datasets/isic2019/ISIC_2019_Training_Metadata.csv’ saved [1214351/1214351]\n",
            "\n",
            "--2025-04-20 00:45:34--  https://isic-challenge-data.s3.amazonaws.com/2019/ISIC_2019_Training_GroundTruth.csv\n",
            "Resolving isic-challenge-data.s3.amazonaws.com (isic-challenge-data.s3.amazonaws.com)... 52.217.136.209, 3.5.22.93, 52.216.209.177, ...\n",
            "Connecting to isic-challenge-data.s3.amazonaws.com (isic-challenge-data.s3.amazonaws.com)|52.217.136.209|:443... connected.\n",
            "HTTP request sent, awaiting response... 200 OK\n",
            "Length: 1291479 (1.2M) [text/csv]\n",
            "Saving to: ‘/content/skin_datasets/isic2019/ISIC_2019_Training_GroundTruth.csv’\n",
            "\n",
            "/content/skin_datas 100%[===================>]   1.23M  3.33MB/s    in 0.4s    \n",
            "\n",
            "2025-04-20 00:45:35 (3.33 MB/s) - ‘/content/skin_datasets/isic2019/ISIC_2019_Training_GroundTruth.csv’ saved [1291479/1291479]\n",
            "\n",
            "Extracting ISIC 2019 files...\n"
          ]
        }
      ],
      "source": [
        "import torch\n",
        "import torch.nn as nn\n",
        "import torch.optim as optim\n",
        "from torch.utils.data import Dataset, DataLoader\n",
        "from torchvision import datasets, models, transforms\n",
        "import numpy as np\n",
        "import matplotlib.pyplot as plt\n",
        "import time\n",
        "import os\n",
        "import copy\n",
        "import pandas as pd\n",
        "import seaborn as sns\n",
        "from sklearn.model_selection import train_test_split\n",
        "from PIL import Image\n",
        "from skimage import filters\n",
        "from skimage.measure import shannon_entropy\n",
        "import cv2\n",
        "import warnings\n",
        "warnings.filterwarnings(\"ignore\")\n",
        "\n",
        "# Check if GPU is available\n",
        "device = torch.device(\"cuda:0\" if torch.cuda.is_available() else \"cpu\")\n",
        "print(f\"Using device: {device}\")\n",
        "\n",
        "# ========================\n",
        "# 1. Download and Set Up Datasets\n",
        "# ========================\n",
        "\n",
        "# Create main directory for datasets\n",
        "!mkdir -p /content/skin_datasets\n",
        "\n",
        "# HAM10000 Dataset\n",
        "print(\"\\n===== Setting up HAM10000 Dataset =====\")\n",
        "!mkdir -p /content/skin_datasets/ham10000\n",
        "\n",
        "# Download HAM10000 files\n",
        "print(\"Downloading HAM10000 dataset...\")\n",
        "!wget -O /content/skin_datasets/ham10000/ISIC2018_Task3_Training_Input.zip https://isic-challenge-data.s3.amazonaws.com/2018/ISIC2018_Task3_Training_Input.zip\n",
        "!wget -O /content/skin_datasets/ham10000/ISIC2018_Task3_Training_GroundTruth.zip https://isic-challenge-data.s3.amazonaws.com/2018/ISIC2018_Task3_Training_GroundTruth.zip\n",
        "!wget -O /content/skin_datasets/ham10000/ISIC2018_Task3_Training_LesionGroupings.csv https://isic-challenge-data.s3.amazonaws.com/2018/ISIC2018_Task3_Training_LesionGroupings.csv\n",
        "\n",
        "# Extract HAM10000 files\n",
        "print(\"Extracting HAM10000 files...\")\n",
        "!unzip -q /content/skin_datasets/ham10000/ISIC2018_Task3_Training_Input.zip -d /content/skin_datasets/ham10000/images\n",
        "!unzip -q /content/skin_datasets/ham10000/ISIC2018_Task3_Training_GroundTruth.zip -d /content/skin_datasets/ham10000\n",
        "\n",
        "# ISIC 2019 Dataset\n",
        "print(\"\\n===== Setting up ISIC 2019 Dataset =====\")\n",
        "!mkdir -p /content/skin_datasets/isic2019\n",
        "\n",
        "# Download ISIC 2019 files\n",
        "print(\"Downloading ISIC 2019 files...\")\n",
        "!wget -O /content/skin_datasets/isic2019/ISIC_2019_Training_Input.zip https://isic-challenge-data.s3.amazonaws.com/2019/ISIC_2019_Training_Input.zip\n",
        "!wget -O /content/skin_datasets/isic2019/ISIC_2019_Training_Metadata.csv https://isic-challenge-data.s3.amazonaws.com/2019/ISIC_2019_Training_Metadata.csv\n",
        "!wget -O /content/skin_datasets/isic2019/ISIC_2019_Training_GroundTruth.csv https://isic-challenge-data.s3.amazonaws.com/2019/ISIC_2019_Training_GroundTruth.csv\n",
        "\n",
        "# Extract ISIC 2019 files\n",
        "print(\"Extracting ISIC 2019 files...\")\n",
        "!mkdir -p /content/skin_datasets/isic2019/images\n",
        "!unzip -q /content/skin_datasets/isic2019/ISIC_2019_Training_Input.zip -d /content/skin_datasets/isic2019/images\n",
        "\n"
      ]
    },
    {
      "cell_type": "code",
      "source": [
        "from sklearn.model_selection import train_test_split\n",
        "def build_skin_disease_taxonomy():\n",
        "    \"\"\"Build the skin disease taxonomy\"\"\"\n",
        "    # Define taxonomy structure\n",
        "    taxonomy = {\n",
        "        \"Highly Dangerous\": {\n",
        "            \"Malignant Melanoma\": [\"Superficial spreading melanoma\", \"Nodular melanoma\", \"Lentigo maligna melanoma\"],\n",
        "            \"Non-Melanoma Skin Cancer\": [\"Basal cell carcinoma\", \"Squamous cell carcinoma\", \"Actinic keratosis\"]\n",
        "        },\n",
        "        \"Minor Conditions\": {\n",
        "            \"Benign Lesions\": [\"Melanocytic nevus\", \"Dermatofibroma\", \"Seborrheic keratosis\", \"Vascular lesions\"],\n",
        "            \"Inflammatory Conditions\": [\"Eczema\", \"Psoriasis\", \"Acne\", \"Rosacea\"],\n",
        "            \"Infectious Lesions\": [\"Fungal infections\", \"Viral warts\", \"Bacterial infections\"]\n",
        "        }\n",
        "    }\n",
        "\n",
        "    # Create mapping from HAM10000 labels to severity classes\n",
        "    ham10000_mapping = {\n",
        "        \"MEL\": \"Highly Dangerous\",  # Melanoma\n",
        "        \"BCC\": \"Highly Dangerous\",  # Basal Cell Carcinoma\n",
        "        \"AKIEC\": \"Highly Dangerous\",  # Actinic Keratosis / Intraepithelial Carcinoma\n",
        "        \"SCC\": \"Highly Dangerous\",  # Squamous Cell Carcinoma\n",
        "        \"NV\": \"Minor Conditions\",  # Melanocytic Nevus\n",
        "        \"BKL\": \"Minor Conditions\",  # Benign Keratosis\n",
        "        \"DF\": \"Minor Conditions\",  # Dermatofibroma\n",
        "        \"VASC\": \"Minor Conditions\"  # Vascular Lesions\n",
        "    }\n",
        "\n",
        "    return taxonomy, ham10000_mapping\n",
        "\n",
        "# ========================\n",
        "# 3. Process and Combine Datasets\n",
        "# ========================\n",
        "\n",
        "def process_ham10000():\n",
        "    \"\"\"Process HAM10000 dataset and add taxonomy information\"\"\"\n",
        "    # Define paths\n",
        "    ground_truth_file = \"/content/skin_datasets/ham10000/ISIC2018_Task3_Training_GroundTruth/ISIC2018_Task3_Training_GroundTruth.csv\"\n",
        "    lesion_groupings_file = \"/content/skin_datasets/ham10000/ISIC2018_Task3_Training_LesionGroupings.csv\"\n",
        "\n",
        "    # Check if files exist\n",
        "    if not os.path.exists(ground_truth_file):\n",
        "        print(f\"Warning: Ground truth file not found at {ground_truth_file}\")\n",
        "        return pd.DataFrame()\n",
        "\n",
        "    if not os.path.exists(lesion_groupings_file):\n",
        "        print(f\"Warning: Lesion groupings file not found at {lesion_groupings_file}\")\n",
        "        return pd.DataFrame()\n",
        "\n",
        "    # Load data files\n",
        "    ground_truth = pd.read_csv(ground_truth_file)\n",
        "    lesion_groupings = pd.read_csv(lesion_groupings_file)\n",
        "\n",
        "    # Get diagnosis columns\n",
        "    diagnosis_columns = [col for col in ground_truth.columns if col != 'image']\n",
        "\n",
        "    # Merge datasets and create labels\n",
        "    merged_data = ground_truth.merge(lesion_groupings, on='image')\n",
        "    merged_data['label'] = merged_data[diagnosis_columns].idxmax(axis=1)\n",
        "\n",
        "    # Add image path column\n",
        "    merged_data['image_path'] = merged_data['image'].apply(\n",
        "        lambda x: f\"/content/skin_datasets/ham10000/images/ISIC2018_Task3_Training_Input/{x}.jpg\"\n",
        "    )\n",
        "\n",
        "    # Verify that image files exist\n",
        "    merged_data['image_exists'] = merged_data['image_path'].apply(os.path.exists)\n",
        "    print(f\"HAM10000: {merged_data['image_exists'].sum()}/{len(merged_data)} images found\")\n",
        "\n",
        "    # Keep only existing images\n",
        "    merged_data = merged_data[merged_data['image_exists']]\n",
        "\n",
        "    # Add dataset source\n",
        "    merged_data['dataset_source'] = 'HAM10000'\n",
        "\n",
        "    # Add severity based on taxonomy\n",
        "    _, ham10000_mapping = build_skin_disease_taxonomy()\n",
        "    merged_data['severity'] = merged_data['label'].map(ham10000_mapping)\n",
        "\n",
        "    return merged_data\n",
        "\n",
        "def process_isic2019():\n",
        "    \"\"\"Process ISIC 2019 dataset and add taxonomy information\"\"\"\n",
        "    # Define paths\n",
        "    ground_truth_file = \"/content/skin_datasets/isic2019/ISIC_2019_Training_GroundTruth.csv\"\n",
        "    metadata_file = \"/content/skin_datasets/isic2019/ISIC_2019_Training_Metadata.csv\"\n",
        "\n",
        "    # Check if files exist\n",
        "    if not os.path.exists(ground_truth_file):\n",
        "        print(f\"Warning: Ground truth file not found at {ground_truth_file}\")\n",
        "        return pd.DataFrame()\n",
        "\n",
        "    if not os.path.exists(metadata_file):\n",
        "        print(f\"Warning: Metadata file not found at {metadata_file}\")\n",
        "        return pd.DataFrame()\n",
        "\n",
        "    # Load data files\n",
        "    ground_truth = pd.read_csv(ground_truth_file)\n",
        "    metadata = pd.read_csv(metadata_file)\n",
        "\n",
        "    # Print column names for debugging\n",
        "    print(\"Ground truth columns:\", ground_truth.columns.tolist())\n",
        "    print(\"Metadata columns:\", metadata.columns.tolist())\n",
        "\n",
        "    # Fix column naming inconsistencies\n",
        "    # ISIC 2019 data might use 'image_name' or 'image' for the image identifier\n",
        "    if 'image' not in ground_truth.columns and 'image_name' in ground_truth.columns:\n",
        "        ground_truth.rename(columns={'image_name': 'image'}, inplace=True)\n",
        "\n",
        "    if 'image' not in metadata.columns and 'image_name' in metadata.columns:\n",
        "        pass  # Keep as is, we'll handle the merge\n",
        "    elif 'image_name' not in metadata.columns and 'image' in metadata.columns:\n",
        "        metadata.rename(columns={'image': 'image_name'}, inplace=True)\n",
        "\n",
        "    # Identify diagnosis columns (all except image identifier)\n",
        "    diagnosis_columns = [col for col in ground_truth.columns if col != 'image']\n",
        "\n",
        "    # Create labels based on maximum probability\n",
        "    ground_truth['label'] = ground_truth[diagnosis_columns].idxmax(axis=1)\n",
        "\n",
        "    # Merge with metadata - handle different column names\n",
        "    if 'image_name' in metadata.columns:\n",
        "        # If there's an image_name column in metadata, merge on that\n",
        "        merged_data = ground_truth.merge(metadata, left_on='image', right_on='image_name', how='left')\n",
        "    else:\n",
        "        # Otherwise try direct merge\n",
        "        merged_data = ground_truth.merge(metadata, on='image', how='left')\n",
        "\n",
        "    # Add image path column\n",
        "    merged_data['image_path'] = merged_data['image'].apply(\n",
        "        lambda x: f\"/content/skin_datasets/isic2019/images/ISIC_2019_Training_Input/{x}.jpg\"\n",
        "    )\n",
        "\n",
        "    # Verify that image files exist\n",
        "    merged_data['image_exists'] = merged_data['image_path'].apply(os.path.exists)\n",
        "    print(f\"ISIC2019: {merged_data['image_exists'].sum()}/{len(merged_data)} images found\")\n",
        "\n",
        "    # Keep only existing images\n",
        "    merged_data = merged_data[merged_data['image_exists']]\n",
        "\n",
        "    # Add dataset source\n",
        "    merged_data['dataset_source'] = 'ISIC2019'\n",
        "\n",
        "    # Define mapping from ISIC2019 to HAM10000 labels for consistency\n",
        "    isic2019_mapping = {\n",
        "        'MEL': 'MEL',\n",
        "        'NV': 'NV',\n",
        "        'BCC': 'BCC',\n",
        "        'AK': 'AKIEC',\n",
        "        'BKL': 'BKL',\n",
        "        'DF': 'DF',\n",
        "        'SCC': 'SCC',\n",
        "        'VASC': 'VASC'\n",
        "    }\n",
        "\n",
        "    # Apply mapping\n",
        "    merged_data['label'] = merged_data['label'].map(lambda x: isic2019_mapping.get(x, x))\n",
        "\n",
        "    # Add severity based on taxonomy\n",
        "    _, ham10000_mapping = build_skin_disease_taxonomy()\n",
        "    merged_data['severity'] = merged_data['label'].map(ham10000_mapping)\n",
        "\n",
        "    return merged_data\n",
        "\n",
        "def combine_datasets():\n",
        "    \"\"\"Combine all datasets and create a unified dataframe\"\"\"\n",
        "    print(\"Processing HAM10000 dataset...\")\n",
        "    ham10000_df = process_ham10000()\n",
        "\n",
        "    print(\"Processing ISIC2019 dataset...\")\n",
        "    isic2019_df = process_isic2019()\n",
        "\n",
        "    # Initialize an empty list to store dataframes\n",
        "    dfs = []\n",
        "\n",
        "    # Add dataframes if they're not empty\n",
        "    if not ham10000_df.empty:\n",
        "        dfs.append(ham10000_df)\n",
        "        print(f\"HAM10000 dataset: {len(ham10000_df)} images\")\n",
        "\n",
        "    if not isic2019_df.empty:\n",
        "        dfs.append(isic2019_df)\n",
        "        print(f\"ISIC2019 dataset: {len(isic2019_df)} images\")\n",
        "\n",
        "    # Check if we have any data\n",
        "    if not dfs:\n",
        "        raise ValueError(\"No valid datasets found. Please check paths and data files.\")\n",
        "\n",
        "    # Combine datasets\n",
        "    print(\"Combining datasets...\")\n",
        "    combined_df = pd.concat(dfs, ignore_index=True)\n",
        "\n",
        "    # Drop duplicates based on image path\n",
        "    combined_df = combined_df.drop_duplicates(subset=['image_path'])\n",
        "\n",
        "    print(f\"Combined dataset created with {len(combined_df)} images\")\n",
        "\n",
        "    # Print class distribution\n",
        "    print(\"\\nClass distribution by label:\")\n",
        "    label_counts = combined_df['label'].value_counts()\n",
        "    for label, count in label_counts.items():\n",
        "        print(f\"  {label}: {count} images ({count/len(combined_df)*100:.1f}%)\")\n",
        "\n",
        "    print(\"\\nClass distribution by severity:\")\n",
        "    severity_counts = combined_df['severity'].value_counts()\n",
        "    for severity, count in severity_counts.items():\n",
        "        print(f\"  {severity}: {count} images ({count/len(combined_df)*100:.1f}%)\")\n",
        "\n",
        "    return combined_df\n",
        "\n",
        "# ========================\n",
        "# 4. Denoising and Image Quality Assessment\n",
        "# ========================\n",
        "\n",
        "def assess_image_quality(image_path):\n",
        "    \"\"\"Assess image quality for filtering low-quality images\"\"\"\n",
        "    try:\n",
        "        # Read image\n",
        "        img = cv2.imread(image_path)\n",
        "        if img is None:\n",
        "            return False\n",
        "\n",
        "        # Convert to grayscale\n",
        "        gray = cv2.cvtColor(img, cv2.COLOR_BGR2GRAY)\n",
        "\n",
        "        # Calculate sharpness (Laplacian variance)\n",
        "        laplacian_var = cv2.Laplacian(gray, cv2.CV_64F).var()\n",
        "\n",
        "        # Calculate entropy\n",
        "        entropy = shannon_entropy(gray)\n",
        "\n",
        "        # Calculate contrast\n",
        "        contrast = gray.std()\n",
        "\n",
        "        # Simple thresholding to separate potential lesion\n",
        "        _, thresh = cv2.threshold(gray, 0, 255, cv2.THRESH_BINARY + cv2.THRESH_OTSU)\n",
        "        lesion_area = np.sum(thresh == 255)\n",
        "        total_area = thresh.size\n",
        "        lesion_ratio = lesion_area / total_area\n",
        "\n",
        "        # Define quality criteria\n",
        "        is_sharp = laplacian_var > 50  # Good sharpness\n",
        "        has_good_entropy = entropy > 2  # Contains meaningful information\n",
        "        good_contrast = contrast > 20  # Sufficient contrast\n",
        "        good_lesion_focus = 0.05 < lesion_ratio < 0.95  # Lesion is visible but not too large or small\n",
        "\n",
        "        # Consider image good quality if it meets most criteria\n",
        "        quality_score = sum([is_sharp, has_good_entropy, good_contrast, good_lesion_focus])\n",
        "        return quality_score >= 3\n",
        "\n",
        "    except Exception as e:\n",
        "        print(f\"Error assessing image {image_path}: {str(e)}\")\n",
        "        return False\n",
        "\n",
        "def denoise_dataset(combined_df):\n",
        "    \"\"\"Remove low-quality images from the dataset\"\"\"\n",
        "    print(\"Assessing image quality...\")\n",
        "\n",
        "    # Ensure image_path exists\n",
        "    if 'image_path' not in combined_df.columns:\n",
        "        print(\"Error: 'image_path' column not found in dataframe\")\n",
        "        return combined_df\n",
        "\n",
        "    # Sample a subset of images for quality assessment to save time\n",
        "    sample_size = min(1000, len(combined_df))\n",
        "    sample_df = combined_df.sample(sample_size, random_state=42)\n",
        "\n",
        "    # Assess quality of sampled images\n",
        "    quality_results = []\n",
        "    for idx, row in sample_df.iterrows():\n",
        "        image_path = row['image_path']\n",
        "        quality = assess_image_quality(image_path)\n",
        "        quality_results.append(quality)\n",
        "\n",
        "    # Calculate quality rate\n",
        "    quality_rate = sum(quality_results) / len(quality_results)\n",
        "    print(f\"Image quality assessment: {sum(quality_results)}/{len(quality_results)} images passed ({quality_rate:.1%})\")\n",
        "\n",
        "    # If quality is generally good, keep all images\n",
        "    if quality_rate > 0.9:\n",
        "        print(\"Most images have good quality. Keeping all images.\")\n",
        "        return combined_df\n",
        "\n",
        "    # Otherwise, assess all images and filter\n",
        "    print(\"Filtering low-quality images...\")\n",
        "    combined_df['good_quality'] = False  # Initialize column\n",
        "\n",
        "    # Process in chunks to show progress\n",
        "    chunk_size = 1000\n",
        "    total_chunks = len(combined_df) // chunk_size + 1\n",
        "\n",
        "    for i in range(total_chunks):\n",
        "        start_idx = i * chunk_size\n",
        "        end_idx = min((i + 1) * chunk_size, len(combined_df))\n",
        "        chunk = combined_df.iloc[start_idx:end_idx]\n",
        "\n",
        "        # Process chunk\n",
        "        print(f\"Processing chunk {i+1}/{total_chunks} ({start_idx} to {end_idx})...\")\n",
        "        for idx, row in chunk.iterrows():\n",
        "            image_path = row['image_path']\n",
        "            combined_df.at[idx, 'good_quality'] = assess_image_quality(image_path)\n",
        "\n",
        "    # Filter dataframe\n",
        "    filtered_df = combined_df[combined_df['good_quality']]\n",
        "\n",
        "    print(f\"After filtering: {len(filtered_df)}/{len(combined_df)} images kept ({len(filtered_df)/len(combined_df):.1%})\")\n",
        "    return filtered_df\n",
        "\n",
        "# ========================\n",
        "# 5. Disease Partitioning and Training Classes\n",
        "# ========================\n",
        "\n",
        "def create_training_classes(df, max_classes=7, min_samples=50):\n",
        "    \"\"\"Partition diseases into balanced training classes\"\"\"\n",
        "    print(\"Creating training classes...\")\n",
        "\n",
        "    # Check if df is empty\n",
        "    if len(df) == 0:\n",
        "        print(\"Error: Empty dataframe provided\")\n",
        "        return df\n",
        "\n",
        "    # Check if required columns exist\n",
        "    required_cols = ['severity', 'label']\n",
        "    missing_cols = [col for col in required_cols if col not in df.columns]\n",
        "    if missing_cols:\n",
        "        print(f\"Error: Missing columns: {missing_cols}\")\n",
        "        return df\n",
        "\n",
        "    # Start with severity-based classes\n",
        "    df['training_class'] = df['severity']\n",
        "\n",
        "    # Get label distribution within each severity class\n",
        "    high_danger_labels = df[df['severity'] == 'Highly Dangerous']['label'].value_counts()\n",
        "    minor_labels = df[df['severity'] == 'Minor Conditions']['label'].value_counts()\n",
        "\n",
        "    # For high danger classes, separate major cancer types\n",
        "    for label, count in high_danger_labels.items():\n",
        "        if count >= min_samples:\n",
        "            # Create a specific class for this cancer type\n",
        "            mask = (df['label'] == label)\n",
        "            df.loc[mask, 'training_class'] = f\"Dangerous: {label}\"\n",
        "\n",
        "    # For minor conditions, group common conditions\n",
        "    for label, count in minor_labels.items():\n",
        "        if count >= min_samples:\n",
        "            # Create a specific class for this condition\n",
        "            mask = (df['label'] == label)\n",
        "            df.loc[mask, 'training_class'] = f\"Minor: {label}\"\n",
        "\n",
        "    # Check resulting class distribution\n",
        "    class_counts = df['training_class'].value_counts()\n",
        "    print(\"\\nTraining class distribution:\")\n",
        "    for cls, count in class_counts.items():\n",
        "        print(f\"  {cls}: {count} images ({count/len(df)*100:.1f}%)\")\n",
        "\n",
        "    # If we have too many classes, merge smaller ones\n",
        "    if len(class_counts) > max_classes:\n",
        "        print(f\"\\nToo many classes ({len(class_counts)}). Merging smaller classes...\")\n",
        "\n",
        "        # Keep largest classes, merge smaller ones\n",
        "        top_classes = class_counts.head(max_classes - 1).index.tolist()\n",
        "\n",
        "        # Update training classes, merging smaller ones\n",
        "        df['training_class'] = df['training_class'].apply(\n",
        "            lambda x: x if x in top_classes else \"Other conditions\"\n",
        "        )\n",
        "\n",
        "        # Print updated distribution\n",
        "        class_counts = df['training_class'].value_counts()\n",
        "        print(\"\\nRevised training class distribution:\")\n",
        "        for cls, count in class_counts.items():\n",
        "            print(f\"  {cls}: {count} images ({count/len(df)*100:.1f}%)\")\n",
        "\n",
        "    return df\n",
        "\n",
        "# ========================\n",
        "# 6. Dataset and DataLoader\n",
        "# ========================\n",
        "\n",
        "class SkinLesionDataset(Dataset):\n",
        "    \"\"\"Dataset class for skin lesion images\"\"\"\n",
        "    def __init__(self, dataframe, transform=None):\n",
        "        self.dataframe = dataframe\n",
        "        self.transform = transform\n",
        "\n",
        "        # Create class mapping\n",
        "        self.classes = sorted(dataframe['training_class'].unique())\n",
        "        self.class_to_idx = {cls: idx for idx, cls in enumerate(self.classes)}\n",
        "\n",
        "        # Map training classes to indices\n",
        "        self.dataframe['class_idx'] = self.dataframe['training_class'].map(self.class_to_idx)\n",
        "\n",
        "        print(f\"Dataset created with {len(self.dataframe)} images and {len(self.classes)} classes\")\n",
        "\n",
        "    def __len__(self):\n",
        "        return len(self.dataframe)\n",
        "\n",
        "    def __getitem__(self, idx):\n",
        "        img_path = self.dataframe.iloc[idx]['image_path']\n",
        "        class_idx = self.dataframe.iloc[idx]['class_idx']\n",
        "\n",
        "        # Load image\n",
        "        try:\n",
        "            img = Image.open(img_path).convert('RGB')\n",
        "        except Exception as e:\n",
        "            print(f\"Error loading image {img_path}: {str(e)}\")\n",
        "            # Create a black dummy image if file can't be read\n",
        "            img = Image.new('RGB', (224, 224), color='black')\n",
        "\n",
        "        # Apply transformations\n",
        "        if self.transform:\n",
        "            img = self.transform(img)\n",
        "\n",
        "        return img, class_idx\n",
        "\n",
        "def create_data_loaders(df, batch_size=32):\n",
        "    \"\"\"Create training, validation, and test data loaders\"\"\"\n",
        "    # Check if dataframe is empty or missing required columns\n",
        "    if len(df) == 0:\n",
        "        raise ValueError(\"Empty dataframe provided\")\n",
        "\n",
        "    if 'training_class' not in df.columns:\n",
        "        raise ValueError(\"Missing 'training_class' column\")\n",
        "\n",
        "    # Split data into train, validation, and test sets\n",
        "    train_df, temp_df = train_test_split(\n",
        "        df, test_size=0.3, random_state=42, stratify=df['training_class']\n",
        "    )\n",
        "\n",
        "    val_df, test_df = train_test_split(\n",
        "        temp_df, test_size=0.5, random_state=42, stratify=temp_df['training_class']\n",
        "    )\n",
        "\n",
        "    print(f\"Train: {len(train_df)}, Validation: {len(val_df)}, Test: {len(test_df)}\")\n",
        "\n",
        "    # Data augmentation for training\n",
        "    train_transform = transforms.Compose([\n",
        "        transforms.Resize((224, 224)),\n",
        "        transforms.RandomHorizontalFlip(),\n",
        "        transforms.RandomVerticalFlip(),\n",
        "        transforms.RandomRotation(20),\n",
        "        transforms.ColorJitter(brightness=0.1, contrast=0.1, saturation=0.1, hue=0.05),\n",
        "        transforms.ToTensor(),\n",
        "        transforms.Normalize([0.485, 0.456, 0.406], [0.229, 0.224, 0.225])\n",
        "    ])\n",
        "\n",
        "    # Validation and test transforms\n",
        "    val_test_transform = transforms.Compose([\n",
        "        transforms.Resize((224, 224)),\n",
        "        transforms.ToTensor(),\n",
        "        transforms.Normalize([0.485, 0.456, 0.406], [0.229, 0.224, 0.225])\n",
        "    ])\n",
        "\n",
        "    # Create datasets\n",
        "    train_dataset = SkinLesionDataset(train_df, transform=train_transform)\n",
        "    val_dataset = SkinLesionDataset(val_df, transform=val_test_transform)\n",
        "    test_dataset = SkinLesionDataset(test_df, transform=val_test_transform)\n",
        "\n",
        "    # Create data loaders\n",
        "    train_loader = DataLoader(train_dataset, batch_size=batch_size, shuffle=True, num_workers=2)\n",
        "    val_loader = DataLoader(val_dataset, batch_size=batch_size, num_workers=2)\n",
        "    test_loader = DataLoader(test_dataset, batch_size=batch_size, num_workers=2)\n",
        "\n",
        "    return train_loader, val_loader, test_loader, train_dataset.classes\n",
        "\n",
        "# ========================\n",
        "# 7. CNN Model Architecture (Inception v3)\n",
        "# ========================\n",
        "\n",
        "def create_inception_model(num_classes):\n",
        "    \"\"\"Create Inception v3 model with custom classifier head\"\"\"\n",
        "    # Load pretrained Inception v3\n",
        "    model = models.inception_v3(pretrained=True)\n",
        "\n",
        "    # Modify final classifier\n",
        "    # Inception v3 has both main output and auxiliary output\n",
        "    # We need to modify both for fine-tuning\n",
        "\n",
        "    # Modify main classifier\n",
        "    in_features = model.fc.in_features\n",
        "    model.fc = nn.Linear(in_features, num_classes)\n",
        "\n",
        "    # Modify auxiliary classifier\n",
        "    if hasattr(model, 'AuxLogits') and hasattr(model.AuxLogits, 'fc'):\n",
        "        aux_in_features = model.AuxLogits.fc.in_features\n",
        "        model.AuxLogits.fc = nn.Linear(aux_in_features, num_classes)\n",
        "\n",
        "    return model\n",
        "\n",
        "# ========================\n",
        "# 8. Training Functions\n",
        "# ========================\n",
        "\n",
        "def train_model(model, train_loader, val_loader, criterion, optimizer, scheduler=None, num_epochs=25):\n",
        "    \"\"\"Train the CNN model\"\"\"\n",
        "    since = time.time()\n",
        "\n",
        "    best_model_wts = copy.deepcopy(model.state_dict())\n",
        "    best_acc = 0.0\n",
        "\n",
        "    # For tracking training progress\n",
        "    history = {\n",
        "        'train_loss': [], 'train_acc': [],\n",
        "        'val_loss': [], 'val_acc': []\n",
        "    }\n",
        "\n",
        "    for epoch in range(num_epochs):\n",
        "        print(f'Epoch {epoch+1}/{num_epochs}')\n",
        "        print('-' * 10)\n",
        "\n",
        "        # Each epoch has a training and validation phase\n",
        "        for phase in ['train', 'val']:\n",
        "            if phase == 'train':\n",
        "                model.train()  # Set model to training mode\n",
        "                dataloader = train_loader\n",
        "            else:\n",
        "                model.eval()   # Set model to evaluate mode\n",
        "                dataloader = val_loader\n",
        "\n",
        "            running_loss = 0.0\n",
        "            running_corrects = 0\n",
        "\n",
        "            # Iterate over data\n",
        "            for inputs, labels in dataloader:\n",
        "                inputs = inputs.to(device)\n",
        "                labels = labels.to(device)\n",
        "\n",
        "                # Zero the parameter gradients\n",
        "                optimizer.zero_grad()\n",
        "\n",
        "                # Forward pass\n",
        "                with torch.set_grad_enabled(phase == 'train'):\n",
        "                    # Special case for Inception v3 (has auxiliary output)\n",
        "                    if isinstance(model, models.inception.Inception3) and phase == 'train':\n",
        "                        outputs, aux_outputs = model(inputs)\n",
        "                        loss1 = criterion(outputs, labels)\n",
        "                        loss2 = criterion(aux_outputs, labels)\n",
        "                        loss = loss1 + 0.4 * loss2\n",
        "                    else:\n",
        "                        outputs = model(inputs)\n",
        "                        loss = criterion(outputs, labels)\n",
        "\n",
        "                    _, preds = torch.max(outputs, 1)\n",
        "\n",
        "                    # Backward pass and optimize only in training phase\n",
        "                    if phase == 'train':\n",
        "                        loss.backward()\n",
        "                        optimizer.step()\n",
        "\n",
        "                # Statistics\n",
        "                running_loss += loss.item() * inputs.size(0)\n",
        "                running_corrects += torch.sum(preds == labels.data)\n",
        "\n",
        "            if phase == 'train' and scheduler is not None:\n",
        "                scheduler.step()\n",
        "\n",
        "            epoch_loss = running_loss / len(dataloader.dataset)\n",
        "            epoch_acc = running_corrects.double() / len(dataloader.dataset)\n",
        "\n",
        "            # Store history\n",
        "            if phase == 'train':\n",
        "                history['train_loss'].append(epoch_loss)\n",
        "                history['train_acc'].append(epoch_acc.item())\n",
        "            else:\n",
        "                history['val_loss'].append(epoch_loss)\n",
        "                history['val_acc'].append(epoch_acc.item())\n",
        "\n",
        "            print(f'{phase.capitalize()} Loss: {epoch_loss:.4f} Acc: {epoch_acc:.4f}')\n",
        "\n",
        "            # Deep copy the model if best validation accuracy\n",
        "            if phase == 'val' and epoch_acc > best_acc:\n",
        "                best_acc = epoch_acc\n",
        "                best_model_wts = copy.deepcopy(model.state_dict())\n",
        "\n",
        "        print()\n",
        "\n",
        "    time_elapsed = time.time() - since\n",
        "    print(f'Training complete in {time_elapsed // 60:.0f}m {time_elapsed % 60:.0f}s')\n",
        "    print(f'Best val Acc: {best_acc:.4f}')\n",
        "\n",
        "    # Load best model weights\n",
        "    model.load_state_dict(best_model_wts)\n",
        "    return model, history\n",
        "\n",
        "# ========================\n",
        "# 9. Evaluation Functions\n",
        "# ========================\n",
        "\n",
        "def evaluate_model(model, test_loader, class_names):\n",
        "    \"\"\"Evaluate the model on test data\"\"\"\n",
        "    model.eval()\n",
        "\n",
        "    # Initialize variables for evaluation\n",
        "    all_preds = []\n",
        "    all_labels = []\n",
        "    running_corrects = 0\n",
        "\n",
        "    # Iterate over test data\n",
        "    with torch.no_grad():\n",
        "        for inputs, labels in test_loader:\n",
        "            inputs = inputs.to(device)\n",
        "            labels = labels.to(device)\n",
        "\n",
        "            # Forward pass\n",
        "            outputs = model(inputs)\n",
        "            _, preds = torch.max(outputs, 1)\n",
        "\n",
        "            # Update statistics\n",
        "            running_corrects += torch.sum(preds == labels.data)\n",
        "\n",
        "            # Store predictions and labels for confusion matrix\n",
        "            all_preds.extend(preds.cpu().numpy())\n",
        "            all_labels.extend(labels.cpu().numpy())\n",
        "\n",
        "    # Calculate accuracy\n",
        "    test_acc = running_corrects.double() / len(test_loader.dataset)\n",
        "    print(f'Test Accuracy: {test_acc:.4f}')\n",
        "\n",
        "    # Compute confusion matrix\n",
        "    cm = confusion_matrix(all_labels, all_preds)\n",
        "\n",
        "    # Plot confusion matrix\n",
        "    plt.figure(figsize=(12, 10))\n",
        "    sns.heatmap(cm, annot=True, fmt='d', cmap='Blues',\n",
        "                xticklabels=class_names, yticklabels=class_names)\n",
        "    plt.xlabel('Predicted')\n",
        "    plt.ylabel('True')\n",
        "    plt.title('Confusion Matrix')\n",
        "    plt.xticks(rotation=45, ha='right')\n",
        "    plt.tight_layout()\n",
        "    plt.show()\n",
        "\n",
        "    # Print classification report\n",
        "    print(\"\\nClassification Report:\")\n",
        "    print(classification_report(all_labels, all_preds, target_names=class_names))\n",
        "\n",
        "    return test_acc, cm\n",
        "\n",
        "def plot_training_history(history):\n",
        "    \"\"\"Plot training and validation loss/accuracy\"\"\"\n",
        "    plt.figure(figsize=(12, 5))\n",
        "\n",
        "    # Plot accuracy\n",
        "    plt.subplot(1, 2, 1)\n",
        "    plt.plot(history['train_acc'], label='Train')\n",
        "    plt.plot(history['val_acc'], label='Validation')\n",
        "    plt.title('Model Accuracy')\n",
        "    plt.xlabel('Epoch')\n",
        "    plt.ylabel('Accuracy')\n",
        "    plt.legend()\n",
        "\n",
        "    # Plot loss\n",
        "    plt.subplot(1, 2, 2)\n",
        "    plt.plot(history['train_loss'], label='Train')\n",
        "    plt.plot(history['val_loss'], label='Validation')\n",
        "    plt.title('Model Loss')\n",
        "    plt.xlabel('Epoch')\n",
        "    plt.ylabel('Loss')\n",
        "    plt.legend()\n",
        "\n",
        "    plt.tight_layout()\n",
        "    plt.show()\n",
        "\n",
        "# ========================\n",
        "# 10. Main Execution\n",
        "# ========================\n",
        "\n",
        "def main():\n",
        "    try:\n",
        "        # 1. Combine datasets\n",
        "        combined_df = combine_datasets()\n",
        "\n",
        "        # Make sure we have some data\n",
        "        if len(combined_df) == 0:\n",
        "            raise ValueError(\"No data available after combining datasets\")\n",
        "\n",
        "        # 2. Filter low-quality images\n",
        "        denoised_df = denoise_dataset(combined_df)\n",
        "\n",
        "        # 3. Create training classes\n",
        "        classified_df = create_training_classes(denoised_df)\n",
        "\n",
        "        # 4. Create data loaders\n",
        "        train_loader, val_loader, test_loader, class_names = create_data_loaders(classified_df)\n",
        "\n",
        "        # 5. Create model\n",
        "        num_classes = len(class_names)\n",
        "        model = create_inception_model(num_classes)\n",
        "        model = model.to(device)\n",
        "\n",
        "        # 6. Set up loss function and optimizer\n",
        "        criterion = nn.CrossEntropyLoss()\n",
        "        optimizer = optim.SGD(model.parameters(), lr=0.001, momentum=0.9)\n",
        "\n",
        "        # Learning rate scheduler\n",
        "        scheduler = optim.lr_scheduler.StepLR(optimizer, step_size=7, gamma=0.1)\n",
        "\n",
        "        # 7. Train model\n",
        "        model, history = train_model(\n",
        "            model, train_loader, val_loader, criterion, optimizer, scheduler, num_epochs=15\n",
        "        )\n",
        "\n",
        "        # 8. Plot training history\n",
        "        plot_training_history(history)\n",
        "\n",
        "        # 9. Evaluate model\n",
        "        test_acc, cm = evaluate_model(model, test_loader, class_names)\n",
        "\n",
        "        # 10. Save model\n",
        "        torch.save(model.state_dict(), '/content/skin_lesion_classifier.pth')\n",
        "        print(\"Model saved to '/content/skin_lesion_classifier.pth'\")\n",
        "\n",
        "        return model, class_names\n",
        "\n",
        "    except Exception as e:\n",
        "        print(f\"Error in main execution: {str(e)}\")\n",
        "        import traceback\n",
        "        traceback.print_exc()\n",
        "        return None, None\n",
        "\n"
      ],
      "metadata": {
        "id": "JDnl7BCbLMzP"
      },
      "execution_count": null,
      "outputs": []
    },
    {
      "cell_type": "code",
      "source": [
        "IMAGE_SIZE = 224  # Changed from 224 to 299 for Inception v3\n",
        "BATCH_SIZE = 64   # Reduced batch size for stability\n",
        "NUM_EPOCHS = 10   # Can be reduced for faster debugging\n",
        "MODEL_TYPE = \"resnet50\"  # Options: \"inception_v3\", \"resnet50\", \"efficientnet\"\n",
        "#5. Disease Partitioning and Training Classes\n",
        "# ========================\n",
        "\n",
        "def create_training_classes(df, max_classes=7, min_samples=50):\n",
        "    \"\"\"Partition diseases into balanced training classes\"\"\"\n",
        "    print(\"Creating training classes...\")\n",
        "\n",
        "    # Check if df is empty\n",
        "    if len(df) == 0:\n",
        "        print(\"Error: Empty dataframe provided\")\n",
        "        return df\n",
        "\n",
        "    # Check if required columns exist\n",
        "    required_cols = ['severity', 'label']\n",
        "    missing_cols = [col for col in required_cols if col not in df.columns]\n",
        "    if missing_cols:\n",
        "        print(f\"Error: Missing columns: {missing_cols}\")\n",
        "        return df\n",
        "\n",
        "    # Start with severity-based classes\n",
        "    df['training_class'] = df['severity']\n",
        "\n",
        "    # Get label distribution within each severity class\n",
        "    high_danger_labels = df[df['severity'] == 'Highly Dangerous']['label'].value_counts()\n",
        "    minor_labels = df[df['severity'] == 'Minor Conditions']['label'].value_counts()\n",
        "\n",
        "    # For high danger classes, separate major cancer types\n",
        "    for label, count in high_danger_labels.items():\n",
        "        if count >= min_samples:\n",
        "            # Create a specific class for this cancer type\n",
        "            mask = (df['label'] == label)\n",
        "            df.loc[mask, 'training_class'] = f\"Dangerous: {label}\"\n",
        "\n",
        "    # For minor conditions, group common conditions\n",
        "    for label, count in minor_labels.items():\n",
        "        if count >= min_samples:\n",
        "            # Create a specific class for this condition\n",
        "            mask = (df['label'] == label)\n",
        "            df.loc[mask, 'training_class'] = f\"Minor: {label}\"\n",
        "\n",
        "    # Check resulting class distribution\n",
        "    class_counts = df['training_class'].value_counts()\n",
        "    print(\"\\nTraining class distribution:\")\n",
        "    for cls, count in class_counts.items():\n",
        "        print(f\"  {cls}: {count} images ({count/len(df)*100:.1f}%)\")\n",
        "\n",
        "    # If we have too many classes, merge smaller ones\n",
        "    if len(class_counts) > max_classes:\n",
        "        print(f\"\\nToo many classes ({len(class_counts)}). Merging smaller classes...\")\n",
        "\n",
        "        # Keep largest classes, merge smaller ones\n",
        "        top_classes = class_counts.head(max_classes - 1).index.tolist()\n",
        "\n",
        "        # Update training classes, merging smaller ones\n",
        "        df['training_class'] = df['training_class'].apply(\n",
        "            lambda x: x if x in top_classes else \"Other conditions\"\n",
        "        )\n",
        "\n",
        "        # Print updated distribution\n",
        "        class_counts = df['training_class'].value_counts()\n",
        "        print(\"\\nRevised training class distribution:\")\n",
        "        for cls, count in class_counts.items():\n",
        "            print(f\"  {cls}: {count} images ({count/len(df)*100:.1f}%)\")\n",
        "\n",
        "    return df\n",
        "\n",
        "# ========================\n",
        "# 6. Dataset and DataLoader\n",
        "# ========================\n",
        "\n",
        "class SkinLesionDataset(Dataset):\n",
        "    \"\"\"Dataset class for skin lesion images\"\"\"\n",
        "    def __init__(self, dataframe, transform=None):\n",
        "        self.dataframe = dataframe\n",
        "        self.transform = transform\n",
        "\n",
        "        # Create class mapping\n",
        "        self.classes = sorted(dataframe['training_class'].unique())\n",
        "        self.class_to_idx = {cls: idx for idx, cls in enumerate(self.classes)}\n",
        "\n",
        "        # Map training classes to indices\n",
        "        self.dataframe['class_idx'] = self.dataframe['training_class'].map(self.class_to_idx)\n",
        "\n",
        "        print(f\"Dataset created with {len(self.dataframe)} images and {len(self.classes)} classes\")\n",
        "\n",
        "    def __len__(self):\n",
        "        return len(self.dataframe)\n",
        "\n",
        "    def __getitem__(self, idx):\n",
        "        img_path = self.dataframe.iloc[idx]['image_path']\n",
        "        class_idx = self.dataframe.iloc[idx]['class_idx']\n",
        "\n",
        "        # Load image\n",
        "        try:\n",
        "            img = Image.open(img_path).convert('RGB')\n",
        "        except Exception as e:\n",
        "            print(f\"Error loading image {img_path}: {str(e)}\")\n",
        "            # Create a black dummy image if file can't be read\n",
        "            img = Image.new('RGB', (224, 224), color='black')\n",
        "\n",
        "        # Apply transformations\n",
        "        if self.transform:\n",
        "            img = self.transform(img)\n",
        "\n",
        "        return img, class_idx\n",
        "\n",
        "def get_transforms(image_size):\n",
        "    \"\"\"Get train and validation/test transforms with specified image size\"\"\"\n",
        "    train_transform = transforms.Compose([\n",
        "        transforms.Resize((image_size, image_size)),\n",
        "        transforms.RandomHorizontalFlip(),\n",
        "        transforms.RandomVerticalFlip(),\n",
        "        transforms.RandomRotation(20),\n",
        "        transforms.ColorJitter(brightness=0.1, contrast=0.1, saturation=0.1, hue=0.05),\n",
        "        transforms.ToTensor(),\n",
        "        transforms.Normalize([0.485, 0.456, 0.406], [0.229, 0.224, 0.225])\n",
        "    ])\n",
        "\n",
        "    val_test_transform = transforms.Compose([\n",
        "        transforms.Resize((image_size, image_size)),\n",
        "        transforms.ToTensor(),\n",
        "        transforms.Normalize([0.485, 0.456, 0.406], [0.229, 0.224, 0.225])\n",
        "    ])\n",
        "\n",
        "    return train_transform, val_test_transform\n",
        "\n",
        "def create_data_loaders(df, batch_size=32):\n",
        "    \"\"\"Create training, validation, and test data loaders\"\"\"\n",
        "    # Check if dataframe is empty or missing required columns\n",
        "    if len(df) == 0:\n",
        "        raise ValueError(\"Empty dataframe provided\")\n",
        "\n",
        "    if 'training_class' not in df.columns:\n",
        "        raise ValueError(\"Missing 'training_class' column\")\n",
        "\n",
        "    # Split data into train, validation, and test sets\n",
        "    train_df, temp_df = train_test_split(\n",
        "        df, test_size=0.3, random_state=42, stratify=df['training_class']\n",
        "    )\n",
        "\n",
        "    val_df, test_df = train_test_split(\n",
        "        temp_df, test_size=0.5, random_state=42, stratify=temp_df['training_class']\n",
        "    )\n",
        "\n",
        "    print(f\"Train: {len(train_df)}, Validation: {len(val_df)}, Test: {len(test_df)}\")\n",
        "\n",
        "    # Data augmentation for training\n",
        "    train_transform = transforms.Compose([\n",
        "    transforms.Resize((299, 299)),  # Changed from 224x224 to 299x299 for Inception v3\n",
        "    transforms.RandomHorizontalFlip(),\n",
        "    transforms.RandomVerticalFlip(),\n",
        "    transforms.RandomRotation(20),\n",
        "    transforms.ColorJitter(brightness=0.1, contrast=0.1, saturation=0.1, hue=0.05),\n",
        "    transforms.ToTensor(),\n",
        "    transforms.Normalize([0.485, 0.456, 0.406], [0.229, 0.224, 0.225])\n",
        "])\n",
        "\n",
        "    # Validation and test transforms\n",
        "    val_test_transform = transforms.Compose([\n",
        "    transforms.Resize((299, 299)),  # Changed from 224x224 to 299x299\n",
        "    transforms.ToTensor(),\n",
        "    transforms.Normalize([0.485, 0.456, 0.406], [0.229, 0.224, 0.225])\n",
        "])\n",
        "\n",
        "    # Create datasets\n",
        "    train_dataset = SkinLesionDataset(train_df, transform=train_transform)\n",
        "    val_dataset = SkinLesionDataset(val_df, transform=val_test_transform)\n",
        "    test_dataset = SkinLesionDataset(test_df, transform=val_test_transform)\n",
        "\n",
        "    # Create data loaders\n",
        "    train_loader = DataLoader(train_dataset, batch_size=batch_size, shuffle=True, num_workers=2)\n",
        "    val_loader = DataLoader(val_dataset, batch_size=batch_size, num_workers=2)\n",
        "    test_loader = DataLoader(test_dataset, batch_size=batch_size, num_workers=2)\n",
        "\n",
        "    return train_loader, val_loader, test_loader, train_dataset.classes\n",
        "\n",
        "def train_with_mixed_precision(model, train_loader, val_loader, criterion,\n",
        "                              optimizer, scheduler=None, num_epochs=10, device=None):\n",
        "    \"\"\"Optimized training with mixed precision and reduced logging\"\"\"\n",
        "    if device is None:\n",
        "        device = torch.device(\"cuda:0\" if torch.cuda.is_available() else \"cpu\")\n",
        "\n",
        "    # Use mixed precision\n",
        "    from torch.cuda.amp import autocast, GradScaler\n",
        "    scaler = GradScaler()\n",
        "\n",
        "    since = time.time()\n",
        "    best_model_wts = copy.deepcopy(model.state_dict())\n",
        "    best_acc = 0.0\n",
        "    history = {'train_loss': [], 'train_acc': [], 'val_loss': [], 'val_acc': []}\n",
        "\n",
        "    # Only log every N batches (to reduce overhead)\n",
        "    log_every = 50\n",
        "\n",
        "    for epoch in range(num_epochs):\n",
        "        print(f'Epoch {epoch+1}/{num_epochs}')\n",
        "        print('-' * 20)\n",
        "\n",
        "        for phase in ['train', 'val']:\n",
        "            if phase == 'train':\n",
        "                model.train()\n",
        "                dataloader = train_loader\n",
        "            else:\n",
        "                model.eval()\n",
        "                dataloader = val_loader\n",
        "\n",
        "            running_loss = 0.0\n",
        "            running_corrects = 0\n",
        "\n",
        "            # Use tqdm for progress bar\n",
        "            from tqdm import tqdm\n",
        "\n",
        "            for batch_idx, (inputs, labels) in enumerate(tqdm(dataloader, desc=f\"{phase}\")):\n",
        "                inputs = inputs.to(device)\n",
        "                labels = labels.to(device)\n",
        "\n",
        "                # Zero gradients\n",
        "                optimizer.zero_grad()\n",
        "\n",
        "                # Mixed precision forward pass\n",
        "                with torch.set_grad_enabled(phase == 'train'):\n",
        "                    with autocast(enabled=device.type=='cuda'):\n",
        "                        outputs = model(inputs)\n",
        "                        loss = criterion(outputs, labels)\n",
        "\n",
        "                    _, preds = torch.max(outputs, 1)\n",
        "\n",
        "                    # Backward + optimize only in training phase\n",
        "                    if phase == 'train':\n",
        "                        scaler.scale(loss).backward()\n",
        "                        scaler.step(optimizer)\n",
        "                        scaler.update()\n",
        "\n",
        "                # Statistics\n",
        "                batch_loss = loss.item()\n",
        "                running_loss += batch_loss * inputs.size(0)\n",
        "                running_corrects += torch.sum(preds == labels.data)\n",
        "\n",
        "                # Print progress occasionally\n",
        "                if phase == 'train' and (batch_idx + 1) % log_every == 0:\n",
        "                    samples_so_far = (batch_idx + 1) * inputs.size(0)\n",
        "                    running_acc = running_corrects.double() / samples_so_far\n",
        "                    print(f\"\\nBatch {batch_idx + 1}/{len(dataloader)}: Loss: {batch_loss:.4f}, Acc: {running_acc:.4f}\")\n",
        "\n",
        "            epoch_loss = running_loss / len(dataloader.dataset)\n",
        "            epoch_acc = running_corrects.double() / len(dataloader.dataset)\n",
        "\n",
        "            # Store history\n",
        "            if phase == 'train':\n",
        "                history['train_loss'].append(epoch_loss)\n",
        "                history['train_acc'].append(epoch_acc.item())\n",
        "                if scheduler is not None:\n",
        "                    scheduler.step()\n",
        "            else:\n",
        "                history['val_loss'].append(epoch_loss)\n",
        "                history['val_acc'].append(epoch_acc.item())\n",
        "\n",
        "            print(f'{phase} Loss: {epoch_loss:.4f} Acc: {epoch_acc:.4f}')\n",
        "\n",
        "            # Save best model\n",
        "            if phase == 'val' and epoch_acc > best_acc:\n",
        "                best_acc = epoch_acc\n",
        "                best_model_wts = copy.deepcopy(model.state_dict())\n",
        "\n",
        "        print()\n",
        "\n",
        "    time_elapsed = time.time() - since\n",
        "    print(f'Training complete in {time_elapsed // 60:.0f}m {time_elapsed % 60:.0f}s')\n",
        "    print(f'Best val Acc: {best_acc:.4f}')\n",
        "\n",
        "    # Load best model weights\n",
        "    model.load_state_dict(best_model_wts)\n",
        "    return model, history\n",
        "# ========================\n",
        "# 7. CNN Model Architecture (Inception v3)\n",
        "# ========================\n",
        "\n",
        "def create_model(model_type, num_classes):\n",
        "    \"\"\"Create model based on specified type\"\"\"\n",
        "    if model_type == \"inception_v3\":\n",
        "        # Inception v3 requires 299x299 minimum input size\n",
        "        model = models.inception_v3(pretrained=True)\n",
        "\n",
        "        # Modify main classifier\n",
        "        in_features = model.fc.in_features\n",
        "        model.fc = nn.Linear(in_features, num_classes)\n",
        "\n",
        "        # Modify auxiliary classifier\n",
        "        if hasattr(model, 'AuxLogits') and hasattr(model.AuxLogits, 'fc'):\n",
        "            aux_in_features = model.AuxLogits.fc.in_features\n",
        "            model.AuxLogits.fc = nn.Linear(aux_in_features, num_classes)\n",
        "\n",
        "    elif model_type == \"resnet50\":\n",
        "        # ResNet50 - more robust alternative\n",
        "        model = models.resnet50(pretrained=True)\n",
        "        in_features = model.fc.in_features\n",
        "        model.fc = nn.Linear(in_features, num_classes)\n",
        "\n",
        "    elif model_type == \"mobilenet_v2\":\n",
        "        # MobileNetV2 - much faster than Inception or ResNet\n",
        "        model = models.mobilenet_v2(pretrained=True)\n",
        "        # Replace classifier\n",
        "        model.classifier[1] = nn.Linear(model.classifier[1].in_features, num_classes)\n",
        "\n",
        "\n",
        "    elif model_type == \"efficientnet\":\n",
        "        # EfficientNet - lighter weight option\n",
        "        model = models.efficientnet_b0(pretrained=True)\n",
        "        in_features = model.classifier[1].in_features\n",
        "        model.classifier = nn.Linear(in_features, num_classes)\n",
        "\n",
        "    else:\n",
        "        raise ValueError(f\"Unsupported model type: {model_type}\")\n",
        "\n",
        "    return model\n",
        "\n",
        "# ========================\n",
        "# 8. Training Functions\n",
        "# ========================\n",
        "\n",
        "def train_model(model, train_loader, val_loader, criterion, optimizer,\n",
        "               scheduler=None, num_epochs=15, device=None, report_interval=10):\n",
        "    \"\"\"Train with detailed batch progress reporting\"\"\"\n",
        "    if device is None:\n",
        "        device = torch.device(\"cuda:0\" if torch.cuda.is_available() else \"cpu\")\n",
        "\n",
        "    since = time.time()\n",
        "\n",
        "    best_model_wts = copy.deepcopy(model.state_dict())\n",
        "    best_acc = 0.0\n",
        "\n",
        "    # For tracking training progress\n",
        "    history = {\n",
        "        'train_loss': [], 'train_acc': [],\n",
        "        'val_loss': [], 'val_acc': [],\n",
        "        'batch_losses': [], 'batch_accs': []  # Track individual batch metrics\n",
        "    }\n",
        "\n",
        "    for epoch in range(num_epochs):\n",
        "        print(f'Epoch {epoch+1}/{num_epochs}')\n",
        "        print('-' * 40)\n",
        "\n",
        "        # Each epoch has a training and validation phase\n",
        "        for phase in ['train', 'val']:\n",
        "            if phase == 'train':\n",
        "                model.train()\n",
        "                dataloader = train_loader\n",
        "            else:\n",
        "                model.eval()\n",
        "                dataloader = val_loader\n",
        "\n",
        "            running_loss = 0.0\n",
        "            running_corrects = 0\n",
        "\n",
        "            # Track batch-level metrics\n",
        "            batch_losses = []\n",
        "            batch_accs = []\n",
        "\n",
        "            # Use tqdm for progress bar\n",
        "            from tqdm import tqdm\n",
        "            total_batches = len(dataloader)\n",
        "\n",
        "            # Iterate over data with progress bar\n",
        "            for batch_idx, (inputs, labels) in enumerate(tqdm(dataloader, desc=f\"{phase.capitalize()}\")):\n",
        "                inputs = inputs.to(device)\n",
        "                labels = labels.to(device)\n",
        "\n",
        "                # Zero the parameter gradients\n",
        "                optimizer.zero_grad()\n",
        "\n",
        "                # Forward pass\n",
        "                with torch.set_grad_enabled(phase == 'train'):\n",
        "                    # Special handling for Inception v3\n",
        "                    if isinstance(model, models.inception.Inception3) and phase == 'train':\n",
        "                        try:\n",
        "                            outputs, aux_outputs = model(inputs)\n",
        "                            loss1 = criterion(outputs, labels)\n",
        "                            loss2 = criterion(aux_outputs, labels)\n",
        "                            loss = loss1 + 0.4 * loss2\n",
        "                        except RuntimeError:\n",
        "                            # Fall back to main output only\n",
        "                            outputs = model(inputs)\n",
        "                            loss = criterion(outputs, labels)\n",
        "                    else:\n",
        "                        outputs = model(inputs)\n",
        "                        loss = criterion(outputs, labels)\n",
        "\n",
        "                    _, preds = torch.max(outputs, 1)\n",
        "\n",
        "                    # Backward pass and optimize only in training phase\n",
        "                    if phase == 'train':\n",
        "                        loss.backward()\n",
        "                        optimizer.step()\n",
        "\n",
        "                # Calculate batch statistics\n",
        "                batch_loss = loss.item()\n",
        "                batch_acc = torch.sum(preds == labels.data).double() / inputs.size(0)\n",
        "\n",
        "                # Store batch metrics\n",
        "                batch_losses.append(batch_loss)\n",
        "                batch_accs.append(batch_acc.item())\n",
        "\n",
        "                # Update running stats\n",
        "                running_loss += batch_loss * inputs.size(0)\n",
        "                running_corrects += torch.sum(preds == labels.data)\n",
        "\n",
        "                # Report progress at intervals\n",
        "                if phase == 'train' and (batch_idx + 1) % report_interval == 0:\n",
        "                    # Calculate current batch stats\n",
        "                    print(f\"\\nBatch {batch_idx + 1}/{total_batches}:\")\n",
        "                    print(f\"  Loss: {batch_loss:.4f}\")\n",
        "                    print(f\"  Accuracy: {batch_acc:.4f}\")\n",
        "\n",
        "                    # Calculate running stats\n",
        "                    samples_so_far = (batch_idx + 1) * inputs.size(0)\n",
        "                    running_loss_avg = running_loss / samples_so_far\n",
        "                    running_acc_avg = running_corrects.double() / samples_so_far\n",
        "\n",
        "                    print(f\"  Running Loss: {running_loss_avg:.4f}\")\n",
        "                    print(f\"  Running Accuracy: {running_acc_avg:.4f}\")\n",
        "\n",
        "                    # Show time elapsed\n",
        "                    time_elapsed = time.time() - since\n",
        "                    print(f\"  Time: {time_elapsed//60:.0f}m {time_elapsed%60:.0f}s\")\n",
        "\n",
        "            # Calculate epoch metrics\n",
        "            epoch_loss = running_loss / len(dataloader.dataset)\n",
        "            epoch_acc = running_corrects.double() / len(dataloader.dataset)\n",
        "\n",
        "            # Store history\n",
        "            if phase == 'train':\n",
        "                history['train_loss'].append(epoch_loss)\n",
        "                history['train_acc'].append(epoch_acc.item())\n",
        "                history['batch_losses'].extend(batch_losses)\n",
        "                history['batch_accs'].extend(batch_accs)\n",
        "            else:\n",
        "                history['val_loss'].append(epoch_loss)\n",
        "                history['val_acc'].append(epoch_acc.item())\n",
        "\n",
        "            print(f'{phase.capitalize()} Loss: {epoch_loss:.4f} Acc: {epoch_acc:.4f}')\n",
        "\n",
        "            # Deep copy the model if best validation accuracy\n",
        "            if phase == 'val' and epoch_acc > best_acc:\n",
        "                best_acc = epoch_acc\n",
        "                best_model_wts = copy.deepcopy(model.state_dict())\n",
        "\n",
        "        # Step scheduler\n",
        "        if scheduler is not None and phase == 'train':\n",
        "            scheduler.step()\n",
        "\n",
        "        # Plot current progress after each epoch\n",
        "        if epoch > 0:  # Need at least 2 epochs for plotting\n",
        "            plt.figure(figsize=(15, 5))\n",
        "\n",
        "            # Plot accuracy\n",
        "            plt.subplot(1, 3, 1)\n",
        "            plt.plot(history['train_acc'], label='Train')\n",
        "            plt.plot(history['val_acc'], label='Validation')\n",
        "            plt.title('Model Accuracy')\n",
        "            plt.xlabel('Epoch')\n",
        "            plt.ylabel('Accuracy')\n",
        "            plt.legend()\n",
        "\n",
        "            # Plot loss\n",
        "            plt.subplot(1, 3, 2)\n",
        "            plt.plot(history['train_loss'], label='Train')\n",
        "            plt.plot(history['val_loss'], label='Validation')\n",
        "            plt.title('Model Loss')\n",
        "            plt.xlabel('Epoch')\n",
        "            plt.ylabel('Loss')\n",
        "            plt.legend()\n",
        "\n",
        "            # Plot batch metrics (last 100 batches)\n",
        "            plt.subplot(1, 3, 3)\n",
        "            batch_indices = list(range(len(history['batch_accs'])))\n",
        "            plt.plot(batch_indices[-100:], history['batch_accs'][-100:], label='Batch Accuracy')\n",
        "            plt.title('Recent Batch Accuracy')\n",
        "            plt.xlabel('Batch')\n",
        "            plt.ylabel('Accuracy')\n",
        "\n",
        "            plt.tight_layout()\n",
        "            plt.show()\n",
        "\n",
        "        print()\n",
        "\n",
        "    time_elapsed = time.time() - since\n",
        "    print(f'Training complete in {time_elapsed // 60:.0f}m {time_elapsed % 60:.0f}s')\n",
        "    print(f'Best val Acc: {best_acc:.4f}')\n",
        "\n",
        "    # Load best model weights\n",
        "    model.load_state_dict(best_model_wts)\n",
        "    return model, history\n",
        "\n",
        "# ========================\n",
        "# 9. Evaluation Functions\n",
        "# ========================\n",
        "\n",
        "def evaluate_model(model, test_loader, class_names):\n",
        "    \"\"\"Evaluate the model on test data\"\"\"\n",
        "    model.eval()\n",
        "\n",
        "    # Initialize variables for evaluation\n",
        "    all_preds = []\n",
        "    all_labels = []\n",
        "    running_corrects = 0\n",
        "\n",
        "    # Iterate over test data\n",
        "    with torch.no_grad():\n",
        "        for inputs, labels in test_loader:\n",
        "            inputs = inputs.to(device)\n",
        "            labels = labels.to(device)\n",
        "\n",
        "            # Forward pass\n",
        "            outputs = model(inputs)\n",
        "            _, preds = torch.max(outputs, 1)\n",
        "\n",
        "            # Update statistics\n",
        "            running_corrects += torch.sum(preds == labels.data)\n",
        "\n",
        "            # Store predictions and labels for confusion matrix\n",
        "            all_preds.extend(preds.cpu().numpy())\n",
        "            all_labels.extend(labels.cpu().numpy())\n",
        "\n",
        "    # Calculate accuracy\n",
        "    test_acc = running_corrects.double() / len(test_loader.dataset)\n",
        "    print(f'Test Accuracy: {test_acc:.4f}')\n",
        "\n",
        "    # Compute confusion matrix\n",
        "    cm = confusion_matrix(all_labels, all_preds)\n",
        "\n",
        "    # Plot confusion matrix\n",
        "    plt.figure(figsize=(12, 10))\n",
        "    sns.heatmap(cm, annot=True, fmt='d', cmap='Blues',\n",
        "                xticklabels=class_names, yticklabels=class_names)\n",
        "    plt.xlabel('Predicted')\n",
        "    plt.ylabel('True')\n",
        "    plt.title('Confusion Matrix')\n",
        "    plt.xticks(rotation=45, ha='right')\n",
        "    plt.tight_layout()\n",
        "    plt.show()\n",
        "\n",
        "    # Print classification report\n",
        "    print(\"\\nClassification Report:\")\n",
        "    print(classification_report(all_labels, all_preds, target_names=class_names))\n",
        "\n",
        "    return test_acc, cm\n",
        "\n",
        "def plot_training_history(history):\n",
        "    \"\"\"Plot training and validation loss/accuracy\"\"\"\n",
        "    plt.figure(figsize=(12, 5))\n",
        "\n",
        "    # Plot accuracy\n",
        "    plt.subplot(1, 2, 1)\n",
        "    plt.plot(history['train_acc'], label='Train')\n",
        "    plt.plot(history['val_acc'], label='Validation')\n",
        "    plt.title('Model Accuracy')\n",
        "    plt.xlabel('Epoch')\n",
        "    plt.ylabel('Accuracy')\n",
        "    plt.legend()\n",
        "\n",
        "    # Plot loss\n",
        "    plt.subplot(1, 2, 2)\n",
        "    plt.plot(history['train_loss'], label='Train')\n",
        "    plt.plot(history['val_loss'], label='Validation')\n",
        "    plt.title('Model Loss')\n",
        "    plt.xlabel('Epoch')\n",
        "    plt.ylabel('Loss')\n",
        "    plt.legend()\n",
        "\n",
        "    plt.tight_layout()\n",
        "    plt.show()\n"
      ],
      "metadata": {
        "id": "OoOj9uBcSbsL"
      },
      "execution_count": null,
      "outputs": []
    },
    {
      "cell_type": "code",
      "source": [
        "combined_df = combine_datasets()\n",
        "if len(combined_df) == 0:\n",
        "            raise ValueError(\"No data available after combining datasets\")\n",
        "denoised_df = denoise_dataset(combined_df)\n",
        "classified_df = create_training_classes(denoised_df)\n",
        "classified_df.to_csv('/content/processed_skin_data.csv', index=False)"
      ],
      "metadata": {
        "colab": {
          "base_uri": "https://localhost:8080/"
        },
        "id": "H420Rx92VZ9S",
        "outputId": "b378b65a-7623-4935-c233-3146a09f3313"
      },
      "execution_count": null,
      "outputs": [
        {
          "output_type": "stream",
          "name": "stdout",
          "text": [
            "Processing HAM10000 dataset...\n",
            "HAM10000: 10015/10015 images found\n",
            "Processing ISIC2019 dataset...\n",
            "Ground truth columns: ['image', 'MEL', 'NV', 'BCC', 'AK', 'BKL', 'DF', 'VASC', 'SCC', 'UNK']\n",
            "Metadata columns: ['image', 'age_approx', 'anatom_site_general', 'lesion_id', 'sex']\n",
            "ISIC2019: 25331/25331 images found\n",
            "HAM10000 dataset: 10015 images\n",
            "ISIC2019 dataset: 25331 images\n",
            "Combining datasets...\n",
            "Combined dataset created with 35346 images\n",
            "\n",
            "Class distribution by label:\n",
            "  NV: 19580 images (55.4%)\n",
            "  MEL: 5635 images (15.9%)\n",
            "  BCC: 3837 images (10.9%)\n",
            "  BKL: 3723 images (10.5%)\n",
            "  AKIEC: 1194 images (3.4%)\n",
            "  SCC: 628 images (1.8%)\n",
            "  VASC: 395 images (1.1%)\n",
            "  DF: 354 images (1.0%)\n",
            "\n",
            "Class distribution by severity:\n",
            "  Minor Conditions: 24052 images (68.0%)\n",
            "  Highly Dangerous: 11294 images (32.0%)\n",
            "Assessing image quality...\n",
            "Image quality assessment: 820/1000 images passed (82.0%)\n",
            "Filtering low-quality images...\n",
            "Processing chunk 1/36 (0 to 1000)...\n",
            "Processing chunk 2/36 (1000 to 2000)...\n",
            "Processing chunk 3/36 (2000 to 3000)...\n",
            "Processing chunk 4/36 (3000 to 4000)...\n",
            "Processing chunk 5/36 (4000 to 5000)...\n",
            "Processing chunk 6/36 (5000 to 6000)...\n",
            "Processing chunk 7/36 (6000 to 7000)...\n",
            "Processing chunk 8/36 (7000 to 8000)...\n",
            "Processing chunk 9/36 (8000 to 9000)...\n",
            "Processing chunk 10/36 (9000 to 10000)...\n",
            "Processing chunk 11/36 (10000 to 11000)...\n",
            "Processing chunk 12/36 (11000 to 12000)...\n",
            "Processing chunk 13/36 (12000 to 13000)...\n",
            "Processing chunk 14/36 (13000 to 14000)...\n",
            "Processing chunk 15/36 (14000 to 15000)...\n",
            "Processing chunk 16/36 (15000 to 16000)...\n",
            "Processing chunk 17/36 (16000 to 17000)...\n",
            "Processing chunk 18/36 (17000 to 18000)...\n",
            "Processing chunk 19/36 (18000 to 19000)...\n",
            "Processing chunk 20/36 (19000 to 20000)...\n",
            "Processing chunk 21/36 (20000 to 21000)...\n",
            "Processing chunk 22/36 (21000 to 22000)...\n",
            "Processing chunk 23/36 (22000 to 23000)...\n",
            "Processing chunk 24/36 (23000 to 24000)...\n",
            "Processing chunk 25/36 (24000 to 25000)...\n",
            "Processing chunk 26/36 (25000 to 26000)...\n",
            "Processing chunk 27/36 (26000 to 27000)...\n",
            "Processing chunk 28/36 (27000 to 28000)...\n",
            "Processing chunk 29/36 (28000 to 29000)...\n",
            "Processing chunk 30/36 (29000 to 30000)...\n",
            "Processing chunk 31/36 (30000 to 31000)...\n",
            "Processing chunk 32/36 (31000 to 32000)...\n",
            "Processing chunk 33/36 (32000 to 33000)...\n",
            "Processing chunk 34/36 (33000 to 34000)...\n",
            "Processing chunk 35/36 (34000 to 35000)...\n",
            "Processing chunk 36/36 (35000 to 35346)...\n",
            "After filtering: 29119/35346 images kept (82.4%)\n",
            "Creating training classes...\n",
            "\n",
            "Training class distribution:\n",
            "  Minor: NV: 16163 images (55.5%)\n",
            "  Dangerous: MEL: 5243 images (18.0%)\n",
            "  Minor: BKL: 3122 images (10.7%)\n",
            "  Dangerous: BCC: 2680 images (9.2%)\n",
            "  Dangerous: AKIEC: 849 images (2.9%)\n",
            "  Dangerous: SCC: 455 images (1.6%)\n",
            "  Minor: VASC: 323 images (1.1%)\n",
            "  Minor: DF: 284 images (1.0%)\n",
            "\n",
            "Too many classes (8). Merging smaller classes...\n",
            "\n",
            "Revised training class distribution:\n",
            "  Minor: NV: 16163 images (55.5%)\n",
            "  Dangerous: MEL: 5243 images (18.0%)\n",
            "  Minor: BKL: 3122 images (10.7%)\n",
            "  Dangerous: BCC: 2680 images (9.2%)\n",
            "  Dangerous: AKIEC: 849 images (2.9%)\n",
            "  Other conditions: 607 images (2.1%)\n",
            "  Dangerous: SCC: 455 images (1.6%)\n"
          ]
        }
      ]
    },
    {
      "cell_type": "code",
      "source": [
        "\n",
        "\n",
        "# Get transforms with the correct image size\n",
        "train_transform, val_test_transform = get_transforms(IMAGE_SIZE)\n",
        "\n",
        "# Create data loaders\n",
        "train_loader, val_loader, test_loader, class_names = create_data_loaders(\n",
        "    classified_df,\n",
        "    batch_size=BATCH_SIZE,\n",
        ")"
      ],
      "metadata": {
        "id": "dz5MyiEcVa_K",
        "colab": {
          "base_uri": "https://localhost:8080/"
        },
        "outputId": "4539e9c8-808a-4264-fd84-ccfa8428d49c"
      },
      "execution_count": null,
      "outputs": [
        {
          "output_type": "stream",
          "name": "stdout",
          "text": [
            "Train: 20383, Validation: 4368, Test: 4368\n",
            "Dataset created with 20383 images and 7 classes\n",
            "Dataset created with 4368 images and 7 classes\n",
            "Dataset created with 4368 images and 7 classes\n"
          ]
        }
      ]
    },
    {
      "cell_type": "code",
      "source": [
        "# Step 3: Create and train model (can be modified and rerun)\n",
        "num_classes = len(class_names)\n",
        "model = create_model(MODEL_TYPE, num_classes)\n",
        "model = model.to(device)"
      ],
      "metadata": {
        "id": "SdvT30LWVyeO",
        "colab": {
          "base_uri": "https://localhost:8080/"
        },
        "outputId": "86c9b8db-075b-44a1-fda3-1ba6213daa5a"
      },
      "execution_count": null,
      "outputs": [
        {
          "output_type": "stream",
          "name": "stderr",
          "text": [
            "Downloading: \"https://download.pytorch.org/models/resnet50-0676ba61.pth\" to /root/.cache/torch/hub/checkpoints/resnet50-0676ba61.pth\n",
            "100%|██████████| 97.8M/97.8M [00:00<00:00, 193MB/s]\n"
          ]
        }
      ]
    },
    {
      "cell_type": "code",
      "source": [
        "criterion = nn.CrossEntropyLoss()\n",
        "optimizer = optim.SGD(model.parameters(), lr=0.001, momentum=0.9)\n",
        "# Setup optimizer\n",
        "if MODEL_TYPE == \"inception_v3\":\n",
        "    # Lower learning rate for Inception\n",
        "    optimizer = optim.SGD(model.parameters(), lr=0.0005, momentum=0.9)\n",
        "else:\n",
        "    optimizer = optim.SGD(model.parameters(), lr=0.001, momentum=0.9)\n",
        "\n",
        "# Learning rate scheduler\n",
        "scheduler = optim.lr_scheduler.StepLR(optimizer, step_size=7, gamma=0.1)"
      ],
      "metadata": {
        "id": "_BEShUdaV69M"
      },
      "execution_count": null,
      "outputs": []
    },
    {
      "cell_type": "code",
      "source": [
        "!nvidia-smi\n",
        "!pip install torch torchvision tqdm scikit-learn seaborn pandas matplotlib\n",
        "# Basic imports\n",
        "import torch\n",
        "import torch.nn as nn\n",
        "import torch.optim as optim\n",
        "from torch.utils.data import Dataset, DataLoader\n",
        "from torchvision import models, transforms\n",
        "\n",
        "# Data processing and visualization\n",
        "import numpy as np\n",
        "import pandas as pd\n",
        "import matplotlib.pyplot as plt\n",
        "import seaborn as sns\n",
        "\n",
        "# File and system utilities\n",
        "import os\n",
        "import time\n",
        "import copy\n",
        "\n",
        "# Machine learning utilities\n",
        "from sklearn.model_selection import train_test_split\n",
        "from sklearn.metrics import confusion_matrix, classification_report\n",
        "\n",
        "# Mixed precision training\n",
        "from torch.cuda.amp import autocast, GradScaler\n",
        "\n",
        "# Progress bar\n",
        "from tqdm import tqdm\n",
        "\n",
        "# Image processing (if needed for denoising)\n",
        "from PIL import Image\n",
        "# Define configuration variables\n",
        "IMAGE_SIZE = 224  # Smaller image size\n",
        "BATCH_SIZE = 32   # Increase batch size if possible\n",
        "NUM_EPOCHS = 20   # Fewer epochs\n",
        "MODEL_TYPE = \"mobilenet_v2\"  # Lighter model\n",
        "\n",
        "# Split the classified dataframe into train, validation, and test sets\n",
        "train_df, temp_df = train_test_split(\n",
        "    classified_df, test_size=0.3, random_state=42, stratify=classified_df['training_class']\n",
        ")\n",
        "\n",
        "val_df, test_df = train_test_split(\n",
        "    temp_df, test_size=0.5, random_state=42, stratify=temp_df['training_class']\n",
        ")\n",
        "\n",
        "print(f\"Train: {len(train_df)}, Validation: {len(val_df)}, Test: {len(test_df)}\")\n",
        "\n",
        "# Create a lighter model\n",
        "num_classes = len(class_names)\n",
        "model = create_model(MODEL_TYPE, num_classes)\n",
        "model = model.to(device)\n",
        "\n",
        "# Create simplified transforms\n",
        "train_transform = transforms.Compose([\n",
        "    transforms.Resize((IMAGE_SIZE, IMAGE_SIZE)),\n",
        "    transforms.RandomHorizontalFlip(),\n",
        "    transforms.ToTensor(),\n",
        "    transforms.Normalize([0.485, 0.456, 0.406], [0.229, 0.224, 0.225])\n",
        "])\n",
        "\n",
        "val_test_transform = transforms.Compose([\n",
        "    transforms.Resize((IMAGE_SIZE, IMAGE_SIZE)),\n",
        "    transforms.ToTensor(),\n",
        "    transforms.Normalize([0.485, 0.456, 0.406], [0.229, 0.224, 0.225])\n",
        "])\n",
        "\n",
        "# Recreate data loaders with faster settings\n",
        "train_loader = DataLoader(\n",
        "    SkinLesionDataset(train_df, transform=train_transform),\n",
        "    batch_size=BATCH_SIZE, shuffle=True,\n",
        "    num_workers=4, pin_memory=True  # Faster data loading\n",
        ")\n",
        "\n",
        "val_loader = DataLoader(\n",
        "    SkinLesionDataset(val_df, transform=val_test_transform),\n",
        "    batch_size=BATCH_SIZE, num_workers=4, pin_memory=True\n",
        ")\n",
        "\n",
        "test_loader = DataLoader(\n",
        "    SkinLesionDataset(test_df, transform=val_test_transform),\n",
        "    batch_size=BATCH_SIZE, num_workers=4, pin_memory=True\n",
        ")\n",
        "\n",
        "# Use faster optimizer\n",
        "optimizer = optim.Adam(model.parameters(), lr=0.001)\n",
        "\n",
        "# Train with mixed precision\n",
        "model, history = train_with_mixed_precision(\n",
        "    model, train_loader, val_loader, nn.CrossEntropyLoss(),\n",
        "    optimizer, scheduler=None, num_epochs=NUM_EPOCHS, device=device\n",
        ")\n",
        "\n",
        "# Evaluate and save model as before\n",
        "test_acc, cm = evaluate_model(model, test_loader, class_names)\n",
        "torch.save(model.state_dict(), '/content/skin_lesion_classifier.pth')\n",
        "print(\"Model saved to '/content/skin_lesion_classifier.pth'\")\n"
      ],
      "metadata": {
        "id": "lAfnyTJJV-aG",
        "colab": {
          "base_uri": "https://localhost:8080/",
          "height": 1000
        },
        "outputId": "bf5738b5-528f-46bf-beed-651e869cf171"
      },
      "execution_count": null,
      "outputs": [
        {
          "output_type": "stream",
          "name": "stdout",
          "text": [
            "Sun Apr 20 01:04:35 2025       \n",
            "+-----------------------------------------------------------------------------------------+\n",
            "| NVIDIA-SMI 550.54.15              Driver Version: 550.54.15      CUDA Version: 12.4     |\n",
            "|-----------------------------------------+------------------------+----------------------+\n",
            "| GPU  Name                 Persistence-M | Bus-Id          Disp.A | Volatile Uncorr. ECC |\n",
            "| Fan  Temp   Perf          Pwr:Usage/Cap |           Memory-Usage | GPU-Util  Compute M. |\n",
            "|                                         |                        |               MIG M. |\n",
            "|=========================================+========================+======================|\n",
            "|   0  NVIDIA L4                      Off |   00000000:00:03.0 Off |                    0 |\n",
            "| N/A   51C    P0             17W /   72W |     307MiB /  23034MiB |      2%      Default |\n",
            "|                                         |                        |                  N/A |\n",
            "+-----------------------------------------+------------------------+----------------------+\n",
            "                                                                                         \n",
            "+-----------------------------------------------------------------------------------------+\n",
            "| Processes:                                                                              |\n",
            "|  GPU   GI   CI        PID   Type   Process name                              GPU Memory |\n",
            "|        ID   ID                                                               Usage      |\n",
            "|=========================================================================================|\n",
            "+-----------------------------------------------------------------------------------------+\n",
            "Requirement already satisfied: torch in /usr/local/lib/python3.11/dist-packages (2.6.0+cu124)\n",
            "Requirement already satisfied: torchvision in /usr/local/lib/python3.11/dist-packages (0.21.0+cu124)\n",
            "Requirement already satisfied: tqdm in /usr/local/lib/python3.11/dist-packages (4.67.1)\n",
            "Requirement already satisfied: scikit-learn in /usr/local/lib/python3.11/dist-packages (1.6.1)\n",
            "Requirement already satisfied: seaborn in /usr/local/lib/python3.11/dist-packages (0.13.2)\n",
            "Requirement already satisfied: pandas in /usr/local/lib/python3.11/dist-packages (2.2.2)\n",
            "Requirement already satisfied: matplotlib in /usr/local/lib/python3.11/dist-packages (3.10.0)\n",
            "Requirement already satisfied: filelock in /usr/local/lib/python3.11/dist-packages (from torch) (3.18.0)\n",
            "Requirement already satisfied: typing-extensions>=4.10.0 in /usr/local/lib/python3.11/dist-packages (from torch) (4.13.2)\n",
            "Requirement already satisfied: networkx in /usr/local/lib/python3.11/dist-packages (from torch) (3.4.2)\n",
            "Requirement already satisfied: jinja2 in /usr/local/lib/python3.11/dist-packages (from torch) (3.1.6)\n",
            "Requirement already satisfied: fsspec in /usr/local/lib/python3.11/dist-packages (from torch) (2025.3.2)\n",
            "Requirement already satisfied: nvidia-cuda-nvrtc-cu12==12.4.127 in /usr/local/lib/python3.11/dist-packages (from torch) (12.4.127)\n",
            "Requirement already satisfied: nvidia-cuda-runtime-cu12==12.4.127 in /usr/local/lib/python3.11/dist-packages (from torch) (12.4.127)\n",
            "Requirement already satisfied: nvidia-cuda-cupti-cu12==12.4.127 in /usr/local/lib/python3.11/dist-packages (from torch) (12.4.127)\n",
            "Requirement already satisfied: nvidia-cudnn-cu12==9.1.0.70 in /usr/local/lib/python3.11/dist-packages (from torch) (9.1.0.70)\n",
            "Requirement already satisfied: nvidia-cublas-cu12==12.4.5.8 in /usr/local/lib/python3.11/dist-packages (from torch) (12.4.5.8)\n",
            "Requirement already satisfied: nvidia-cufft-cu12==11.2.1.3 in /usr/local/lib/python3.11/dist-packages (from torch) (11.2.1.3)\n",
            "Requirement already satisfied: nvidia-curand-cu12==10.3.5.147 in /usr/local/lib/python3.11/dist-packages (from torch) (10.3.5.147)\n",
            "Requirement already satisfied: nvidia-cusolver-cu12==11.6.1.9 in /usr/local/lib/python3.11/dist-packages (from torch) (11.6.1.9)\n",
            "Requirement already satisfied: nvidia-cusparse-cu12==12.3.1.170 in /usr/local/lib/python3.11/dist-packages (from torch) (12.3.1.170)\n",
            "Requirement already satisfied: nvidia-cusparselt-cu12==0.6.2 in /usr/local/lib/python3.11/dist-packages (from torch) (0.6.2)\n",
            "Requirement already satisfied: nvidia-nccl-cu12==2.21.5 in /usr/local/lib/python3.11/dist-packages (from torch) (2.21.5)\n",
            "Requirement already satisfied: nvidia-nvtx-cu12==12.4.127 in /usr/local/lib/python3.11/dist-packages (from torch) (12.4.127)\n",
            "Requirement already satisfied: nvidia-nvjitlink-cu12==12.4.127 in /usr/local/lib/python3.11/dist-packages (from torch) (12.4.127)\n",
            "Requirement already satisfied: triton==3.2.0 in /usr/local/lib/python3.11/dist-packages (from torch) (3.2.0)\n",
            "Requirement already satisfied: sympy==1.13.1 in /usr/local/lib/python3.11/dist-packages (from torch) (1.13.1)\n",
            "Requirement already satisfied: mpmath<1.4,>=1.1.0 in /usr/local/lib/python3.11/dist-packages (from sympy==1.13.1->torch) (1.3.0)\n",
            "Requirement already satisfied: numpy in /usr/local/lib/python3.11/dist-packages (from torchvision) (2.0.2)\n",
            "Requirement already satisfied: pillow!=8.3.*,>=5.3.0 in /usr/local/lib/python3.11/dist-packages (from torchvision) (11.1.0)\n",
            "Requirement already satisfied: scipy>=1.6.0 in /usr/local/lib/python3.11/dist-packages (from scikit-learn) (1.14.1)\n",
            "Requirement already satisfied: joblib>=1.2.0 in /usr/local/lib/python3.11/dist-packages (from scikit-learn) (1.4.2)\n",
            "Requirement already satisfied: threadpoolctl>=3.1.0 in /usr/local/lib/python3.11/dist-packages (from scikit-learn) (3.6.0)\n",
            "Requirement already satisfied: python-dateutil>=2.8.2 in /usr/local/lib/python3.11/dist-packages (from pandas) (2.8.2)\n",
            "Requirement already satisfied: pytz>=2020.1 in /usr/local/lib/python3.11/dist-packages (from pandas) (2025.2)\n",
            "Requirement already satisfied: tzdata>=2022.7 in /usr/local/lib/python3.11/dist-packages (from pandas) (2025.2)\n",
            "Requirement already satisfied: contourpy>=1.0.1 in /usr/local/lib/python3.11/dist-packages (from matplotlib) (1.3.2)\n",
            "Requirement already satisfied: cycler>=0.10 in /usr/local/lib/python3.11/dist-packages (from matplotlib) (0.12.1)\n",
            "Requirement already satisfied: fonttools>=4.22.0 in /usr/local/lib/python3.11/dist-packages (from matplotlib) (4.57.0)\n",
            "Requirement already satisfied: kiwisolver>=1.3.1 in /usr/local/lib/python3.11/dist-packages (from matplotlib) (1.4.8)\n",
            "Requirement already satisfied: packaging>=20.0 in /usr/local/lib/python3.11/dist-packages (from matplotlib) (24.2)\n",
            "Requirement already satisfied: pyparsing>=2.3.1 in /usr/local/lib/python3.11/dist-packages (from matplotlib) (3.2.3)\n",
            "Requirement already satisfied: six>=1.5 in /usr/local/lib/python3.11/dist-packages (from python-dateutil>=2.8.2->pandas) (1.17.0)\n",
            "Requirement already satisfied: MarkupSafe>=2.0 in /usr/local/lib/python3.11/dist-packages (from jinja2->torch) (3.0.2)\n"
          ]
        },
        {
          "output_type": "stream",
          "name": "stderr",
          "text": [
            "Downloading: \"https://download.pytorch.org/models/mobilenet_v2-b0353104.pth\" to /root/.cache/torch/hub/checkpoints/mobilenet_v2-b0353104.pth\n"
          ]
        },
        {
          "output_type": "stream",
          "name": "stdout",
          "text": [
            "Train: 20383, Validation: 4368, Test: 4368\n"
          ]
        },
        {
          "output_type": "stream",
          "name": "stderr",
          "text": [
            "100%|██████████| 13.6M/13.6M [00:00<00:00, 125MB/s]\n"
          ]
        },
        {
          "output_type": "stream",
          "name": "stdout",
          "text": [
            "Dataset created with 20383 images and 7 classes\n",
            "Dataset created with 4368 images and 7 classes\n",
            "Dataset created with 4368 images and 7 classes\n",
            "Epoch 1/20\n",
            "--------------------\n"
          ]
        },
        {
          "output_type": "stream",
          "name": "stderr",
          "text": [
            "train:   8%|▊         | 51/637 [00:08<01:08,  8.53it/s]"
          ]
        },
        {
          "output_type": "stream",
          "name": "stdout",
          "text": [
            "\n",
            "Batch 50/637: Loss: 0.8645, Acc: 0.5988\n"
          ]
        },
        {
          "output_type": "stream",
          "name": "stderr",
          "text": [
            "train:  16%|█▌        | 102/637 [00:13<00:47, 11.18it/s]"
          ]
        },
        {
          "output_type": "stream",
          "name": "stdout",
          "text": [
            "\n",
            "Batch 100/637: Loss: 0.6725, Acc: 0.6294\n"
          ]
        },
        {
          "output_type": "stream",
          "name": "stderr",
          "text": [
            "train:  24%|██▍       | 152/637 [00:18<00:48,  9.92it/s]"
          ]
        },
        {
          "output_type": "stream",
          "name": "stdout",
          "text": [
            "\n",
            "Batch 150/637: Loss: 1.0414, Acc: 0.6417\n"
          ]
        },
        {
          "output_type": "stream",
          "name": "stderr",
          "text": [
            "train:  31%|███▏      | 200/637 [00:23<00:47,  9.28it/s]"
          ]
        },
        {
          "output_type": "stream",
          "name": "stdout",
          "text": [
            "\n",
            "Batch 200/637: Loss: 1.0323, Acc: 0.6484\n"
          ]
        },
        {
          "output_type": "stream",
          "name": "stderr",
          "text": [
            "train:  39%|███▉      | 248/637 [00:28<00:41,  9.46it/s]"
          ]
        },
        {
          "output_type": "stream",
          "name": "stdout",
          "text": [
            "\n",
            "Batch 250/637: Loss: 0.8300, Acc: 0.6486\n"
          ]
        },
        {
          "output_type": "stream",
          "name": "stderr",
          "text": [
            "train:  47%|████▋     | 299/637 [00:34<00:38,  8.77it/s]"
          ]
        },
        {
          "output_type": "stream",
          "name": "stdout",
          "text": [
            "\n",
            "Batch 300/637: Loss: 1.2325, Acc: 0.6510\n"
          ]
        },
        {
          "output_type": "stream",
          "name": "stderr",
          "text": [
            "train:  55%|█████▌    | 353/637 [00:40<00:26, 10.84it/s]"
          ]
        },
        {
          "output_type": "stream",
          "name": "stdout",
          "text": [
            "\n",
            "Batch 350/637: Loss: 0.8966, Acc: 0.6538\n"
          ]
        },
        {
          "output_type": "stream",
          "name": "stderr",
          "text": [
            "train:  63%|██████▎   | 399/637 [00:45<00:24,  9.58it/s]"
          ]
        },
        {
          "output_type": "stream",
          "name": "stdout",
          "text": [
            "\n",
            "Batch 400/637: Loss: 0.9457, Acc: 0.6569\n"
          ]
        },
        {
          "output_type": "stream",
          "name": "stderr",
          "text": [
            "train:  71%|███████   | 453/637 [00:50<00:16, 11.00it/s]"
          ]
        },
        {
          "output_type": "stream",
          "name": "stdout",
          "text": [
            "\n",
            "Batch 450/637: Loss: 0.5642, Acc: 0.6579\n"
          ]
        },
        {
          "output_type": "stream",
          "name": "stderr",
          "text": [
            "train:  78%|███████▊  | 499/637 [00:55<00:14,  9.44it/s]"
          ]
        },
        {
          "output_type": "stream",
          "name": "stdout",
          "text": [
            "\n",
            "Batch 500/637: Loss: 0.6818, Acc: 0.6613\n"
          ]
        },
        {
          "output_type": "stream",
          "name": "stderr",
          "text": [
            "train:  86%|████████▋ | 551/637 [01:01<00:10,  8.46it/s]"
          ]
        },
        {
          "output_type": "stream",
          "name": "stdout",
          "text": [
            "\n",
            "Batch 550/637: Loss: 0.7208, Acc: 0.6655\n"
          ]
        },
        {
          "output_type": "stream",
          "name": "stderr",
          "text": [
            "train:  94%|█████████▍| 600/637 [01:06<00:04,  8.75it/s]"
          ]
        },
        {
          "output_type": "stream",
          "name": "stdout",
          "text": [
            "\n",
            "Batch 600/637: Loss: 0.6557, Acc: 0.6683\n"
          ]
        },
        {
          "output_type": "stream",
          "name": "stderr",
          "text": [
            "train: 100%|██████████| 637/637 [01:10<00:00,  9.06it/s]\n"
          ]
        },
        {
          "output_type": "stream",
          "name": "stdout",
          "text": [
            "train Loss: 0.9107 Acc: 0.6714\n"
          ]
        },
        {
          "output_type": "stream",
          "name": "stderr",
          "text": [
            "val: 100%|██████████| 137/137 [00:15<00:00,  9.13it/s]\n"
          ]
        },
        {
          "output_type": "stream",
          "name": "stdout",
          "text": [
            "val Loss: 0.7853 Acc: 0.7163\n",
            "\n",
            "Epoch 2/20\n",
            "--------------------\n"
          ]
        },
        {
          "output_type": "stream",
          "name": "stderr",
          "text": [
            "train:   8%|▊         | 51/637 [00:05<01:05,  8.96it/s]"
          ]
        },
        {
          "output_type": "stream",
          "name": "stdout",
          "text": [
            "\n",
            "Batch 50/637: Loss: 0.5215, Acc: 0.7194\n"
          ]
        },
        {
          "output_type": "stream",
          "name": "stderr",
          "text": [
            "train:  16%|█▌        | 99/637 [00:10<00:59,  9.06it/s]"
          ]
        },
        {
          "output_type": "stream",
          "name": "stdout",
          "text": [
            "\n",
            "Batch 100/637: Loss: 0.5357, Acc: 0.7184\n"
          ]
        },
        {
          "output_type": "stream",
          "name": "stderr",
          "text": [
            "train:  24%|██▍       | 152/637 [00:16<00:47, 10.15it/s]"
          ]
        },
        {
          "output_type": "stream",
          "name": "stdout",
          "text": [
            "\n",
            "Batch 150/637: Loss: 0.6920, Acc: 0.7185\n"
          ]
        },
        {
          "output_type": "stream",
          "name": "stderr",
          "text": [
            "train:  31%|███▏      | 200/637 [00:21<00:50,  8.66it/s]"
          ]
        },
        {
          "output_type": "stream",
          "name": "stdout",
          "text": [
            "\n",
            "Batch 200/637: Loss: 0.7809, Acc: 0.7137\n"
          ]
        },
        {
          "output_type": "stream",
          "name": "stderr",
          "text": [
            "train:  39%|███▉      | 251/637 [00:26<00:36, 10.56it/s]"
          ]
        },
        {
          "output_type": "stream",
          "name": "stdout",
          "text": [
            "\n",
            "Batch 250/637: Loss: 0.7695, Acc: 0.7160\n"
          ]
        },
        {
          "output_type": "stream",
          "name": "stderr",
          "text": [
            "train:  48%|████▊     | 303/637 [00:32<00:30, 10.79it/s]"
          ]
        },
        {
          "output_type": "stream",
          "name": "stdout",
          "text": [
            "\n",
            "Batch 300/637: Loss: 0.7707, Acc: 0.7189\n"
          ]
        },
        {
          "output_type": "stream",
          "name": "stderr",
          "text": [
            "train:  55%|█████▍    | 350/637 [00:37<00:28, 10.18it/s]"
          ]
        },
        {
          "output_type": "stream",
          "name": "stdout",
          "text": [
            "\n",
            "Batch 350/637: Loss: 0.6252, Acc: 0.7169\n"
          ]
        },
        {
          "output_type": "stream",
          "name": "stderr",
          "text": [
            "train:  62%|██████▏   | 398/637 [00:42<00:26,  9.01it/s]"
          ]
        },
        {
          "output_type": "stream",
          "name": "stdout",
          "text": [
            "\n",
            "Batch 400/637: Loss: 0.7032, Acc: 0.7173\n"
          ]
        },
        {
          "output_type": "stream",
          "name": "stderr",
          "text": [
            "train:  71%|███████   | 450/637 [00:48<00:21,  8.57it/s]"
          ]
        },
        {
          "output_type": "stream",
          "name": "stdout",
          "text": [
            "\n",
            "Batch 450/637: Loss: 0.6135, Acc: 0.7190\n"
          ]
        },
        {
          "output_type": "stream",
          "name": "stderr",
          "text": [
            "train:  79%|███████▊  | 501/637 [00:53<00:14,  9.46it/s]"
          ]
        },
        {
          "output_type": "stream",
          "name": "stdout",
          "text": [
            "\n",
            "Batch 500/637: Loss: 0.7549, Acc: 0.7206\n"
          ]
        },
        {
          "output_type": "stream",
          "name": "stderr",
          "text": [
            "train:  86%|████████▌ | 549/637 [00:58<00:09,  9.45it/s]"
          ]
        },
        {
          "output_type": "stream",
          "name": "stdout",
          "text": [
            "\n",
            "Batch 550/637: Loss: 0.5080, Acc: 0.7206\n"
          ]
        },
        {
          "output_type": "stream",
          "name": "stderr",
          "text": [
            "train:  95%|█████████▍| 603/637 [01:04<00:03, 11.10it/s]"
          ]
        },
        {
          "output_type": "stream",
          "name": "stdout",
          "text": [
            "\n",
            "Batch 600/637: Loss: 0.6245, Acc: 0.7224\n"
          ]
        },
        {
          "output_type": "stream",
          "name": "stderr",
          "text": [
            "train: 100%|██████████| 637/637 [01:07<00:00,  9.41it/s]\n"
          ]
        },
        {
          "output_type": "stream",
          "name": "stdout",
          "text": [
            "train Loss: 0.7745 Acc: 0.7228\n"
          ]
        },
        {
          "output_type": "stream",
          "name": "stderr",
          "text": [
            "val: 100%|██████████| 137/137 [00:14<00:00,  9.24it/s]\n"
          ]
        },
        {
          "output_type": "stream",
          "name": "stdout",
          "text": [
            "val Loss: 0.6840 Acc: 0.7500\n",
            "\n",
            "Epoch 3/20\n",
            "--------------------\n"
          ]
        },
        {
          "output_type": "stream",
          "name": "stderr",
          "text": [
            "train:   8%|▊         | 52/637 [00:05<00:55, 10.45it/s]"
          ]
        },
        {
          "output_type": "stream",
          "name": "stdout",
          "text": [
            "\n",
            "Batch 50/637: Loss: 0.9487, Acc: 0.7325\n"
          ]
        },
        {
          "output_type": "stream",
          "name": "stderr",
          "text": [
            "train:  16%|█▌        | 99/637 [00:10<00:57,  9.33it/s]"
          ]
        },
        {
          "output_type": "stream",
          "name": "stdout",
          "text": [
            "\n",
            "Batch 100/637: Loss: 0.7643, Acc: 0.7450\n"
          ]
        },
        {
          "output_type": "stream",
          "name": "stderr",
          "text": [
            "train:  24%|██▍       | 153/637 [00:16<00:47, 10.29it/s]"
          ]
        },
        {
          "output_type": "stream",
          "name": "stdout",
          "text": [
            "\n",
            "Batch 150/637: Loss: 0.5913, Acc: 0.7367\n"
          ]
        },
        {
          "output_type": "stream",
          "name": "stderr",
          "text": [
            "train:  32%|███▏      | 201/637 [00:21<00:40, 10.72it/s]"
          ]
        },
        {
          "output_type": "stream",
          "name": "stdout",
          "text": [
            "\n",
            "Batch 200/637: Loss: 0.9857, Acc: 0.7347\n"
          ]
        },
        {
          "output_type": "stream",
          "name": "stderr",
          "text": [
            "train:  40%|███▉      | 253/637 [00:27<00:36, 10.57it/s]"
          ]
        },
        {
          "output_type": "stream",
          "name": "stdout",
          "text": [
            "\n",
            "Batch 250/637: Loss: 0.6479, Acc: 0.7361\n"
          ]
        },
        {
          "output_type": "stream",
          "name": "stderr",
          "text": [
            "train:  47%|████▋     | 299/637 [00:32<00:40,  8.44it/s]"
          ]
        },
        {
          "output_type": "stream",
          "name": "stdout",
          "text": [
            "\n",
            "Batch 300/637: Loss: 0.7277, Acc: 0.7335\n"
          ]
        },
        {
          "output_type": "stream",
          "name": "stderr",
          "text": [
            "train:  55%|█████▌    | 351/637 [00:37<00:33,  8.49it/s]"
          ]
        },
        {
          "output_type": "stream",
          "name": "stdout",
          "text": [
            "\n",
            "Batch 350/637: Loss: 1.0046, Acc: 0.7323\n"
          ]
        },
        {
          "output_type": "stream",
          "name": "stderr",
          "text": [
            "train:  63%|██████▎   | 401/637 [00:43<00:24,  9.74it/s]"
          ]
        },
        {
          "output_type": "stream",
          "name": "stdout",
          "text": [
            "\n",
            "Batch 400/637: Loss: 0.6367, Acc: 0.7318\n"
          ]
        },
        {
          "output_type": "stream",
          "name": "stderr",
          "text": [
            "train:  71%|███████   | 453/637 [00:48<00:17, 10.80it/s]"
          ]
        },
        {
          "output_type": "stream",
          "name": "stdout",
          "text": [
            "\n",
            "Batch 450/637: Loss: 0.6945, Acc: 0.7328\n"
          ]
        },
        {
          "output_type": "stream",
          "name": "stderr",
          "text": [
            "train:  78%|███████▊  | 499/637 [00:53<00:14,  9.60it/s]"
          ]
        },
        {
          "output_type": "stream",
          "name": "stdout",
          "text": [
            "\n",
            "Batch 500/637: Loss: 1.2828, Acc: 0.7353\n"
          ]
        },
        {
          "output_type": "stream",
          "name": "stderr",
          "text": [
            "train:  86%|████████▋ | 551/637 [00:58<00:09,  8.70it/s]"
          ]
        },
        {
          "output_type": "stream",
          "name": "stdout",
          "text": [
            "\n",
            "Batch 550/637: Loss: 0.7924, Acc: 0.7353\n"
          ]
        },
        {
          "output_type": "stream",
          "name": "stderr",
          "text": [
            "train:  94%|█████████▍| 601/637 [01:03<00:03,  9.68it/s]"
          ]
        },
        {
          "output_type": "stream",
          "name": "stdout",
          "text": [
            "\n",
            "Batch 600/637: Loss: 1.1279, Acc: 0.7376\n"
          ]
        },
        {
          "output_type": "stream",
          "name": "stderr",
          "text": [
            "train: 100%|██████████| 637/637 [01:07<00:00,  9.43it/s]\n"
          ]
        },
        {
          "output_type": "stream",
          "name": "stdout",
          "text": [
            "train Loss: 0.7199 Acc: 0.7375\n"
          ]
        },
        {
          "output_type": "stream",
          "name": "stderr",
          "text": [
            "val: 100%|██████████| 137/137 [00:14<00:00,  9.37it/s]\n"
          ]
        },
        {
          "output_type": "stream",
          "name": "stdout",
          "text": [
            "val Loss: 0.7031 Acc: 0.7404\n",
            "\n",
            "Epoch 4/20\n",
            "--------------------\n"
          ]
        },
        {
          "output_type": "stream",
          "name": "stderr",
          "text": [
            "train:   8%|▊         | 48/637 [00:05<01:06,  8.85it/s]"
          ]
        },
        {
          "output_type": "stream",
          "name": "stdout",
          "text": [
            "\n",
            "Batch 50/637: Loss: 0.5172, Acc: 0.7456\n"
          ]
        },
        {
          "output_type": "stream",
          "name": "stderr",
          "text": [
            "train:  16%|█▌        | 102/637 [00:11<00:49, 10.82it/s]"
          ]
        },
        {
          "output_type": "stream",
          "name": "stdout",
          "text": [
            "\n",
            "Batch 100/637: Loss: 1.0516, Acc: 0.7488\n"
          ]
        },
        {
          "output_type": "stream",
          "name": "stderr",
          "text": [
            "train:  24%|██▎       | 150/637 [00:16<00:44, 10.89it/s]"
          ]
        },
        {
          "output_type": "stream",
          "name": "stdout",
          "text": [
            "\n",
            "Batch 150/637: Loss: 0.7073, Acc: 0.7471\n"
          ]
        },
        {
          "output_type": "stream",
          "name": "stderr",
          "text": [
            "train:  32%|███▏      | 202/637 [00:21<00:41, 10.56it/s]"
          ]
        },
        {
          "output_type": "stream",
          "name": "stdout",
          "text": [
            "\n",
            "Batch 200/637: Loss: 0.7698, Acc: 0.7548\n"
          ]
        },
        {
          "output_type": "stream",
          "name": "stderr",
          "text": [
            "train:  39%|███▉      | 248/637 [00:26<00:41,  9.31it/s]"
          ]
        },
        {
          "output_type": "stream",
          "name": "stdout",
          "text": [
            "\n",
            "Batch 250/637: Loss: 0.5320, Acc: 0.7529\n"
          ]
        },
        {
          "output_type": "stream",
          "name": "stderr",
          "text": [
            "train:  47%|████▋     | 302/637 [00:32<00:30, 10.93it/s]"
          ]
        },
        {
          "output_type": "stream",
          "name": "stdout",
          "text": [
            "\n",
            "Batch 300/637: Loss: 0.6818, Acc: 0.7539\n"
          ]
        },
        {
          "output_type": "stream",
          "name": "stderr",
          "text": [
            "train:  55%|█████▍    | 350/637 [00:37<00:25, 11.19it/s]"
          ]
        },
        {
          "output_type": "stream",
          "name": "stdout",
          "text": [
            "\n",
            "Batch 350/637: Loss: 0.4969, Acc: 0.7571\n"
          ]
        },
        {
          "output_type": "stream",
          "name": "stderr",
          "text": [
            "train:  63%|██████▎   | 400/637 [00:42<00:24,  9.55it/s]"
          ]
        },
        {
          "output_type": "stream",
          "name": "stdout",
          "text": [
            "\n",
            "Batch 400/637: Loss: 0.7492, Acc: 0.7550\n"
          ]
        },
        {
          "output_type": "stream",
          "name": "stderr",
          "text": [
            "train:  71%|███████   | 451/637 [00:48<00:20,  9.27it/s]"
          ]
        },
        {
          "output_type": "stream",
          "name": "stdout",
          "text": [
            "\n",
            "Batch 450/637: Loss: 0.6217, Acc: 0.7544\n"
          ]
        },
        {
          "output_type": "stream",
          "name": "stderr",
          "text": [
            "train:  79%|███████▉  | 502/637 [00:53<00:12, 10.74it/s]"
          ]
        },
        {
          "output_type": "stream",
          "name": "stdout",
          "text": [
            "\n",
            "Batch 500/637: Loss: 0.7276, Acc: 0.7543\n"
          ]
        },
        {
          "output_type": "stream",
          "name": "stderr",
          "text": [
            "train:  86%|████████▌ | 549/637 [00:58<00:08,  9.96it/s]"
          ]
        },
        {
          "output_type": "stream",
          "name": "stdout",
          "text": [
            "\n",
            "Batch 550/637: Loss: 0.4738, Acc: 0.7540\n"
          ]
        },
        {
          "output_type": "stream",
          "name": "stderr",
          "text": [
            "train:  94%|█████████▍| 600/637 [01:03<00:03,  9.32it/s]"
          ]
        },
        {
          "output_type": "stream",
          "name": "stdout",
          "text": [
            "\n",
            "Batch 600/637: Loss: 0.4154, Acc: 0.7553\n"
          ]
        },
        {
          "output_type": "stream",
          "name": "stderr",
          "text": [
            "train: 100%|██████████| 637/637 [01:07<00:00,  9.40it/s]\n"
          ]
        },
        {
          "output_type": "stream",
          "name": "stdout",
          "text": [
            "train Loss: 0.6746 Acc: 0.7564\n"
          ]
        },
        {
          "output_type": "stream",
          "name": "stderr",
          "text": [
            "val: 100%|██████████| 137/137 [00:14<00:00,  9.33it/s]\n"
          ]
        },
        {
          "output_type": "stream",
          "name": "stdout",
          "text": [
            "val Loss: 0.7197 Acc: 0.7269\n",
            "\n",
            "Epoch 5/20\n",
            "--------------------\n"
          ]
        },
        {
          "output_type": "stream",
          "name": "stderr",
          "text": [
            "train:   8%|▊         | 50/637 [00:05<01:01,  9.49it/s]"
          ]
        },
        {
          "output_type": "stream",
          "name": "stdout",
          "text": [
            "\n",
            "Batch 50/637: Loss: 0.5911, Acc: 0.7725\n"
          ]
        },
        {
          "output_type": "stream",
          "name": "stderr",
          "text": [
            "train:  16%|█▌        | 99/637 [00:10<00:53, 10.09it/s]"
          ]
        },
        {
          "output_type": "stream",
          "name": "stdout",
          "text": [
            "\n",
            "Batch 100/637: Loss: 0.6466, Acc: 0.7712\n"
          ]
        },
        {
          "output_type": "stream",
          "name": "stderr",
          "text": [
            "train:  24%|██▎       | 150/637 [00:16<00:56,  8.63it/s]"
          ]
        },
        {
          "output_type": "stream",
          "name": "stdout",
          "text": [
            "\n",
            "Batch 150/637: Loss: 0.7944, Acc: 0.7656\n"
          ]
        },
        {
          "output_type": "stream",
          "name": "stderr",
          "text": [
            "train:  31%|███▏      | 200/637 [00:21<00:39, 11.06it/s]"
          ]
        },
        {
          "output_type": "stream",
          "name": "stdout",
          "text": [
            "\n",
            "Batch 200/637: Loss: 0.5901, Acc: 0.7680\n"
          ]
        },
        {
          "output_type": "stream",
          "name": "stderr",
          "text": [
            "train:  39%|███▉      | 250/637 [00:26<00:43,  8.97it/s]"
          ]
        },
        {
          "output_type": "stream",
          "name": "stdout",
          "text": [
            "\n",
            "Batch 250/637: Loss: 0.8166, Acc: 0.7649\n"
          ]
        },
        {
          "output_type": "stream",
          "name": "stderr",
          "text": [
            "train:  47%|████▋     | 298/637 [00:31<00:36,  9.20it/s]"
          ]
        },
        {
          "output_type": "stream",
          "name": "stdout",
          "text": [
            "\n",
            "Batch 300/637: Loss: 0.5182, Acc: 0.7677\n"
          ]
        },
        {
          "output_type": "stream",
          "name": "stderr",
          "text": [
            "train:  55%|█████▌    | 352/637 [00:37<00:25, 11.38it/s]"
          ]
        },
        {
          "output_type": "stream",
          "name": "stdout",
          "text": [
            "\n",
            "Batch 350/637: Loss: 0.3711, Acc: 0.7704\n"
          ]
        },
        {
          "output_type": "stream",
          "name": "stderr",
          "text": [
            "train:  63%|██████▎   | 400/637 [00:42<00:21, 11.23it/s]"
          ]
        },
        {
          "output_type": "stream",
          "name": "stdout",
          "text": [
            "\n",
            "Batch 400/637: Loss: 0.6915, Acc: 0.7682\n"
          ]
        },
        {
          "output_type": "stream",
          "name": "stderr",
          "text": [
            "train:  71%|███████   | 451/637 [00:47<00:20,  9.23it/s]"
          ]
        },
        {
          "output_type": "stream",
          "name": "stdout",
          "text": [
            "\n",
            "Batch 450/637: Loss: 0.4791, Acc: 0.7681\n"
          ]
        },
        {
          "output_type": "stream",
          "name": "stderr",
          "text": [
            "train:  78%|███████▊  | 498/637 [00:52<00:14,  9.28it/s]"
          ]
        },
        {
          "output_type": "stream",
          "name": "stdout",
          "text": [
            "\n",
            "Batch 500/637: Loss: 0.7362, Acc: 0.7678\n"
          ]
        },
        {
          "output_type": "stream",
          "name": "stderr",
          "text": [
            "train:  87%|████████▋ | 552/637 [00:58<00:07, 10.69it/s]"
          ]
        },
        {
          "output_type": "stream",
          "name": "stdout",
          "text": [
            "\n",
            "Batch 550/637: Loss: 0.7849, Acc: 0.7688\n"
          ]
        },
        {
          "output_type": "stream",
          "name": "stderr",
          "text": [
            "train:  94%|█████████▍| 601/637 [01:03<00:04,  8.73it/s]"
          ]
        },
        {
          "output_type": "stream",
          "name": "stdout",
          "text": [
            "\n",
            "Batch 600/637: Loss: 0.5309, Acc: 0.7698\n"
          ]
        },
        {
          "output_type": "stream",
          "name": "stderr",
          "text": [
            "train: 100%|██████████| 637/637 [01:07<00:00,  9.47it/s]\n"
          ]
        },
        {
          "output_type": "stream",
          "name": "stdout",
          "text": [
            "train Loss: 0.6390 Acc: 0.7700\n"
          ]
        },
        {
          "output_type": "stream",
          "name": "stderr",
          "text": [
            "val: 100%|██████████| 137/137 [00:14<00:00,  9.31it/s]\n"
          ]
        },
        {
          "output_type": "stream",
          "name": "stdout",
          "text": [
            "val Loss: 0.6509 Acc: 0.7674\n",
            "\n",
            "Epoch 6/20\n",
            "--------------------\n"
          ]
        },
        {
          "output_type": "stream",
          "name": "stderr",
          "text": [
            "train:   8%|▊         | 52/637 [00:05<00:52, 11.17it/s]"
          ]
        },
        {
          "output_type": "stream",
          "name": "stdout",
          "text": [
            "\n",
            "Batch 50/637: Loss: 0.7782, Acc: 0.8013\n"
          ]
        },
        {
          "output_type": "stream",
          "name": "stderr",
          "text": [
            "train:  16%|█▌        | 102/637 [00:11<00:49, 10.74it/s]"
          ]
        },
        {
          "output_type": "stream",
          "name": "stdout",
          "text": [
            "\n",
            "Batch 100/637: Loss: 0.5753, Acc: 0.7959\n"
          ]
        },
        {
          "output_type": "stream",
          "name": "stderr",
          "text": [
            "train:  24%|██▎       | 151/637 [00:16<00:53,  9.12it/s]"
          ]
        },
        {
          "output_type": "stream",
          "name": "stdout",
          "text": [
            "\n",
            "Batch 150/637: Loss: 0.6812, Acc: 0.7892\n"
          ]
        },
        {
          "output_type": "stream",
          "name": "stderr",
          "text": [
            "train:  32%|███▏      | 202/637 [00:21<00:44,  9.78it/s]"
          ]
        },
        {
          "output_type": "stream",
          "name": "stdout",
          "text": [
            "\n",
            "Batch 200/637: Loss: 0.5682, Acc: 0.7844\n"
          ]
        },
        {
          "output_type": "stream",
          "name": "stderr",
          "text": [
            "train:  40%|███▉      | 252/637 [00:26<00:36, 10.61it/s]"
          ]
        },
        {
          "output_type": "stream",
          "name": "stdout",
          "text": [
            "\n",
            "Batch 250/637: Loss: 0.4552, Acc: 0.7836\n"
          ]
        },
        {
          "output_type": "stream",
          "name": "stderr",
          "text": [
            "train:  47%|████▋     | 302/637 [00:32<00:34,  9.83it/s]"
          ]
        },
        {
          "output_type": "stream",
          "name": "stdout",
          "text": [
            "\n",
            "Batch 300/637: Loss: 0.5877, Acc: 0.7811\n"
          ]
        },
        {
          "output_type": "stream",
          "name": "stderr",
          "text": [
            "train:  55%|█████▍    | 348/637 [00:37<00:32,  8.93it/s]"
          ]
        },
        {
          "output_type": "stream",
          "name": "stdout",
          "text": [
            "\n",
            "Batch 350/637: Loss: 0.7287, Acc: 0.7803\n"
          ]
        },
        {
          "output_type": "stream",
          "name": "stderr",
          "text": [
            "train:  63%|██████▎   | 402/637 [00:42<00:22, 10.39it/s]"
          ]
        },
        {
          "output_type": "stream",
          "name": "stdout",
          "text": [
            "\n",
            "Batch 400/637: Loss: 0.4283, Acc: 0.7808\n"
          ]
        },
        {
          "output_type": "stream",
          "name": "stderr",
          "text": [
            "train:  70%|███████   | 448/637 [00:47<00:19,  9.66it/s]"
          ]
        },
        {
          "output_type": "stream",
          "name": "stdout",
          "text": [
            "\n",
            "Batch 450/637: Loss: 0.7360, Acc: 0.7819\n"
          ]
        },
        {
          "output_type": "stream",
          "name": "stderr",
          "text": [
            "train:  78%|███████▊  | 499/637 [00:52<00:14,  9.39it/s]"
          ]
        },
        {
          "output_type": "stream",
          "name": "stdout",
          "text": [
            "\n",
            "Batch 500/637: Loss: 0.6290, Acc: 0.7807\n"
          ]
        },
        {
          "output_type": "stream",
          "name": "stderr",
          "text": [
            "train:  86%|████████▋ | 551/637 [00:58<00:08, 10.37it/s]"
          ]
        },
        {
          "output_type": "stream",
          "name": "stdout",
          "text": [
            "\n",
            "Batch 550/637: Loss: 0.5151, Acc: 0.7801\n"
          ]
        },
        {
          "output_type": "stream",
          "name": "stderr",
          "text": [
            "train:  94%|█████████▍| 601/637 [01:03<00:03, 10.25it/s]"
          ]
        },
        {
          "output_type": "stream",
          "name": "stdout",
          "text": [
            "\n",
            "Batch 600/637: Loss: 0.5540, Acc: 0.7812\n"
          ]
        },
        {
          "output_type": "stream",
          "name": "stderr",
          "text": [
            "train: 100%|██████████| 637/637 [01:07<00:00,  9.46it/s]\n"
          ]
        },
        {
          "output_type": "stream",
          "name": "stdout",
          "text": [
            "train Loss: 0.6077 Acc: 0.7810\n"
          ]
        },
        {
          "output_type": "stream",
          "name": "stderr",
          "text": [
            "val: 100%|██████████| 137/137 [00:14<00:00,  9.50it/s]\n"
          ]
        },
        {
          "output_type": "stream",
          "name": "stdout",
          "text": [
            "val Loss: 0.6504 Acc: 0.7699\n",
            "\n",
            "Epoch 7/20\n",
            "--------------------\n"
          ]
        },
        {
          "output_type": "stream",
          "name": "stderr",
          "text": [
            "train:   8%|▊         | 51/637 [00:06<01:02,  9.31it/s]"
          ]
        },
        {
          "output_type": "stream",
          "name": "stdout",
          "text": [
            "\n",
            "Batch 50/637: Loss: 0.8031, Acc: 0.7975\n"
          ]
        },
        {
          "output_type": "stream",
          "name": "stderr",
          "text": [
            "train:  15%|█▌        | 98/637 [00:11<01:01,  8.78it/s]"
          ]
        },
        {
          "output_type": "stream",
          "name": "stdout",
          "text": [
            "\n",
            "Batch 100/637: Loss: 0.6143, Acc: 0.7916\n"
          ]
        },
        {
          "output_type": "stream",
          "name": "stderr",
          "text": [
            "train:  24%|██▍       | 152/637 [00:16<00:46, 10.40it/s]"
          ]
        },
        {
          "output_type": "stream",
          "name": "stdout",
          "text": [
            "\n",
            "Batch 150/637: Loss: 0.4272, Acc: 0.7888\n"
          ]
        },
        {
          "output_type": "stream",
          "name": "stderr",
          "text": [
            "train:  31%|███▏      | 200/637 [00:21<00:39, 11.07it/s]"
          ]
        },
        {
          "output_type": "stream",
          "name": "stdout",
          "text": [
            "\n",
            "Batch 200/637: Loss: 0.6082, Acc: 0.7950\n"
          ]
        },
        {
          "output_type": "stream",
          "name": "stderr",
          "text": [
            "train:  40%|███▉      | 252/637 [00:27<00:38, 10.13it/s]"
          ]
        },
        {
          "output_type": "stream",
          "name": "stdout",
          "text": [
            "\n",
            "Batch 250/637: Loss: 0.2637, Acc: 0.7949\n"
          ]
        },
        {
          "output_type": "stream",
          "name": "stderr",
          "text": [
            "train:  47%|████▋     | 301/637 [00:32<00:35,  9.49it/s]"
          ]
        },
        {
          "output_type": "stream",
          "name": "stdout",
          "text": [
            "\n",
            "Batch 300/637: Loss: 0.7518, Acc: 0.7953\n"
          ]
        },
        {
          "output_type": "stream",
          "name": "stderr",
          "text": [
            "train:  55%|█████▌    | 352/637 [00:37<00:24, 11.42it/s]"
          ]
        },
        {
          "output_type": "stream",
          "name": "stdout",
          "text": [
            "\n",
            "Batch 350/637: Loss: 0.4193, Acc: 0.7947\n"
          ]
        },
        {
          "output_type": "stream",
          "name": "stderr",
          "text": [
            "train:  63%|██████▎   | 400/637 [00:43<00:23, 10.19it/s]"
          ]
        },
        {
          "output_type": "stream",
          "name": "stdout",
          "text": [
            "\n",
            "Batch 400/637: Loss: 0.7284, Acc: 0.7916\n"
          ]
        },
        {
          "output_type": "stream",
          "name": "stderr",
          "text": [
            "train:  71%|███████   | 451/637 [00:48<00:18, 10.14it/s]"
          ]
        },
        {
          "output_type": "stream",
          "name": "stdout",
          "text": [
            "\n",
            "Batch 450/637: Loss: 0.3821, Acc: 0.7884\n"
          ]
        },
        {
          "output_type": "stream",
          "name": "stderr",
          "text": [
            "train:  78%|███████▊  | 500/637 [00:54<00:12, 11.18it/s]"
          ]
        },
        {
          "output_type": "stream",
          "name": "stdout",
          "text": [
            "\n",
            "Batch 500/637: Loss: 0.7608, Acc: 0.7894\n"
          ]
        },
        {
          "output_type": "stream",
          "name": "stderr",
          "text": [
            "train:  86%|████████▋ | 550/637 [00:59<00:09,  9.10it/s]"
          ]
        },
        {
          "output_type": "stream",
          "name": "stdout",
          "text": [
            "\n",
            "Batch 550/637: Loss: 0.6025, Acc: 0.7899\n"
          ]
        },
        {
          "output_type": "stream",
          "name": "stderr",
          "text": [
            "train:  94%|█████████▍| 598/637 [01:04<00:04,  9.05it/s]"
          ]
        },
        {
          "output_type": "stream",
          "name": "stdout",
          "text": [
            "\n",
            "Batch 600/637: Loss: 0.5276, Acc: 0.7916\n"
          ]
        },
        {
          "output_type": "stream",
          "name": "stderr",
          "text": [
            "train: 100%|██████████| 637/637 [01:08<00:00,  9.29it/s]\n"
          ]
        },
        {
          "output_type": "stream",
          "name": "stdout",
          "text": [
            "train Loss: 0.5703 Acc: 0.7918\n"
          ]
        },
        {
          "output_type": "stream",
          "name": "stderr",
          "text": [
            "val: 100%|██████████| 137/137 [00:14<00:00,  9.52it/s]\n"
          ]
        },
        {
          "output_type": "stream",
          "name": "stdout",
          "text": [
            "val Loss: 0.5897 Acc: 0.7823\n",
            "\n",
            "Epoch 8/20\n",
            "--------------------\n"
          ]
        },
        {
          "output_type": "stream",
          "name": "stderr",
          "text": [
            "train:   8%|▊         | 51/637 [00:05<00:56, 10.44it/s]"
          ]
        },
        {
          "output_type": "stream",
          "name": "stdout",
          "text": [
            "\n",
            "Batch 50/637: Loss: 0.4799, Acc: 0.8087\n"
          ]
        },
        {
          "output_type": "stream",
          "name": "stderr",
          "text": [
            "train:  16%|█▌        | 99/637 [00:10<00:51, 10.38it/s]"
          ]
        },
        {
          "output_type": "stream",
          "name": "stdout",
          "text": [
            "\n",
            "Batch 100/637: Loss: 0.4238, Acc: 0.8153\n"
          ]
        },
        {
          "output_type": "stream",
          "name": "stderr",
          "text": [
            "train:  23%|██▎       | 149/637 [00:15<00:54,  8.89it/s]"
          ]
        },
        {
          "output_type": "stream",
          "name": "stdout",
          "text": [
            "\n",
            "Batch 150/637: Loss: 0.3779, Acc: 0.8106\n"
          ]
        },
        {
          "output_type": "stream",
          "name": "stderr",
          "text": [
            "train:  32%|███▏      | 203/637 [00:21<00:40, 10.82it/s]"
          ]
        },
        {
          "output_type": "stream",
          "name": "stdout",
          "text": [
            "\n",
            "Batch 200/637: Loss: 0.7024, Acc: 0.8095\n"
          ]
        },
        {
          "output_type": "stream",
          "name": "stderr",
          "text": [
            "train:  39%|███▉      | 251/637 [00:26<00:37, 10.33it/s]"
          ]
        },
        {
          "output_type": "stream",
          "name": "stdout",
          "text": [
            "\n",
            "Batch 250/637: Loss: 0.5504, Acc: 0.8085\n"
          ]
        },
        {
          "output_type": "stream",
          "name": "stderr",
          "text": [
            "train:  47%|████▋     | 301/637 [00:31<00:35,  9.55it/s]"
          ]
        },
        {
          "output_type": "stream",
          "name": "stdout",
          "text": [
            "\n",
            "Batch 300/637: Loss: 0.3152, Acc: 0.8081\n"
          ]
        },
        {
          "output_type": "stream",
          "name": "stderr",
          "text": [
            "train:  55%|█████▍    | 349/637 [00:36<00:29,  9.82it/s]"
          ]
        },
        {
          "output_type": "stream",
          "name": "stdout",
          "text": [
            "\n",
            "Batch 350/637: Loss: 0.7081, Acc: 0.8068\n"
          ]
        },
        {
          "output_type": "stream",
          "name": "stderr",
          "text": [
            "train:  63%|██████▎   | 403/637 [00:42<00:20, 11.32it/s]"
          ]
        },
        {
          "output_type": "stream",
          "name": "stdout",
          "text": [
            "\n",
            "Batch 400/637: Loss: 0.6645, Acc: 0.8060\n"
          ]
        },
        {
          "output_type": "stream",
          "name": "stderr",
          "text": [
            "train:  70%|███████   | 448/637 [00:47<00:21,  8.88it/s]"
          ]
        },
        {
          "output_type": "stream",
          "name": "stdout",
          "text": [
            "\n",
            "Batch 450/637: Loss: 0.6492, Acc: 0.8063\n"
          ]
        },
        {
          "output_type": "stream",
          "name": "stderr",
          "text": [
            "train:  79%|███████▊  | 501/637 [00:52<00:13, 10.27it/s]"
          ]
        },
        {
          "output_type": "stream",
          "name": "stdout",
          "text": [
            "\n",
            "Batch 500/637: Loss: 0.5193, Acc: 0.8066\n"
          ]
        },
        {
          "output_type": "stream",
          "name": "stderr",
          "text": [
            "train:  86%|████████▋ | 551/637 [00:57<00:08,  9.71it/s]"
          ]
        },
        {
          "output_type": "stream",
          "name": "stdout",
          "text": [
            "\n",
            "Batch 550/637: Loss: 0.3899, Acc: 0.8060\n"
          ]
        },
        {
          "output_type": "stream",
          "name": "stderr",
          "text": [
            "train:  94%|█████████▍| 601/637 [01:03<00:03,  9.19it/s]"
          ]
        },
        {
          "output_type": "stream",
          "name": "stdout",
          "text": [
            "\n",
            "Batch 600/637: Loss: 0.4706, Acc: 0.8052\n"
          ]
        },
        {
          "output_type": "stream",
          "name": "stderr",
          "text": [
            "train: 100%|██████████| 637/637 [01:07<00:00,  9.50it/s]\n"
          ]
        },
        {
          "output_type": "stream",
          "name": "stdout",
          "text": [
            "train Loss: 0.5326 Acc: 0.8048\n"
          ]
        },
        {
          "output_type": "stream",
          "name": "stderr",
          "text": [
            "val: 100%|██████████| 137/137 [00:14<00:00,  9.35it/s]\n"
          ]
        },
        {
          "output_type": "stream",
          "name": "stdout",
          "text": [
            "val Loss: 0.5612 Acc: 0.7983\n",
            "\n",
            "Epoch 9/20\n",
            "--------------------\n"
          ]
        },
        {
          "output_type": "stream",
          "name": "stderr",
          "text": [
            "train:   8%|▊         | 50/637 [00:05<01:10,  8.34it/s]"
          ]
        },
        {
          "output_type": "stream",
          "name": "stdout",
          "text": [
            "\n",
            "Batch 50/637: Loss: 0.3763, Acc: 0.8394\n"
          ]
        },
        {
          "output_type": "stream",
          "name": "stderr",
          "text": [
            "train:  16%|█▌        | 100/637 [00:11<00:55,  9.67it/s]"
          ]
        },
        {
          "output_type": "stream",
          "name": "stdout",
          "text": [
            "\n",
            "Batch 100/637: Loss: 0.4896, Acc: 0.8322\n"
          ]
        },
        {
          "output_type": "stream",
          "name": "stderr",
          "text": [
            "train:  24%|██▎       | 150/637 [00:16<00:55,  8.73it/s]"
          ]
        },
        {
          "output_type": "stream",
          "name": "stdout",
          "text": [
            "\n",
            "Batch 150/637: Loss: 0.3832, Acc: 0.8254\n"
          ]
        },
        {
          "output_type": "stream",
          "name": "stderr",
          "text": [
            "train:  31%|███       | 198/637 [00:21<00:46,  9.44it/s]"
          ]
        },
        {
          "output_type": "stream",
          "name": "stdout",
          "text": [
            "\n",
            "Batch 200/637: Loss: 0.5554, Acc: 0.8267\n"
          ]
        },
        {
          "output_type": "stream",
          "name": "stderr",
          "text": [
            "train:  40%|███▉      | 252/637 [00:27<00:34, 11.02it/s]"
          ]
        },
        {
          "output_type": "stream",
          "name": "stdout",
          "text": [
            "\n",
            "Batch 250/637: Loss: 0.6790, Acc: 0.8197\n"
          ]
        },
        {
          "output_type": "stream",
          "name": "stderr",
          "text": [
            "train:  47%|████▋     | 300/637 [00:32<00:32, 10.34it/s]"
          ]
        },
        {
          "output_type": "stream",
          "name": "stdout",
          "text": [
            "\n",
            "Batch 300/637: Loss: 0.7129, Acc: 0.8181\n"
          ]
        },
        {
          "output_type": "stream",
          "name": "stderr",
          "text": [
            "train:  55%|█████▌    | 352/637 [00:37<00:27, 10.38it/s]"
          ]
        },
        {
          "output_type": "stream",
          "name": "stdout",
          "text": [
            "\n",
            "Batch 350/637: Loss: 0.4593, Acc: 0.8173\n"
          ]
        },
        {
          "output_type": "stream",
          "name": "stderr",
          "text": [
            "train:  63%|██████▎   | 402/637 [00:43<00:22, 10.47it/s]"
          ]
        },
        {
          "output_type": "stream",
          "name": "stdout",
          "text": [
            "\n",
            "Batch 400/637: Loss: 0.5171, Acc: 0.8180\n"
          ]
        },
        {
          "output_type": "stream",
          "name": "stderr",
          "text": [
            "train:  71%|███████   | 451/637 [00:48<00:17, 10.38it/s]"
          ]
        },
        {
          "output_type": "stream",
          "name": "stdout",
          "text": [
            "\n",
            "Batch 450/637: Loss: 0.6377, Acc: 0.8181\n"
          ]
        },
        {
          "output_type": "stream",
          "name": "stderr",
          "text": [
            "train:  79%|███████▊  | 501/637 [00:53<00:13, 10.39it/s]"
          ]
        },
        {
          "output_type": "stream",
          "name": "stdout",
          "text": [
            "\n",
            "Batch 500/637: Loss: 0.9354, Acc: 0.8169\n"
          ]
        },
        {
          "output_type": "stream",
          "name": "stderr",
          "text": [
            "train:  86%|████████▋ | 550/637 [00:58<00:08, 10.83it/s]"
          ]
        },
        {
          "output_type": "stream",
          "name": "stdout",
          "text": [
            "\n",
            "Batch 550/637: Loss: 0.3337, Acc: 0.8156\n"
          ]
        },
        {
          "output_type": "stream",
          "name": "stderr",
          "text": [
            "train:  94%|█████████▍| 600/637 [01:04<00:04,  9.01it/s]"
          ]
        },
        {
          "output_type": "stream",
          "name": "stdout",
          "text": [
            "\n",
            "Batch 600/637: Loss: 0.8427, Acc: 0.8160\n"
          ]
        },
        {
          "output_type": "stream",
          "name": "stderr",
          "text": [
            "train: 100%|██████████| 637/637 [01:07<00:00,  9.38it/s]\n"
          ]
        },
        {
          "output_type": "stream",
          "name": "stdout",
          "text": [
            "train Loss: 0.5077 Acc: 0.8151\n"
          ]
        },
        {
          "output_type": "stream",
          "name": "stderr",
          "text": [
            "val: 100%|██████████| 137/137 [00:14<00:00,  9.40it/s]\n"
          ]
        },
        {
          "output_type": "stream",
          "name": "stdout",
          "text": [
            "val Loss: 0.6329 Acc: 0.7882\n",
            "\n",
            "Epoch 10/20\n",
            "--------------------\n"
          ]
        },
        {
          "output_type": "stream",
          "name": "stderr",
          "text": [
            "train:   8%|▊         | 50/637 [00:05<01:00,  9.76it/s]"
          ]
        },
        {
          "output_type": "stream",
          "name": "stdout",
          "text": [
            "\n",
            "Batch 50/637: Loss: 0.3381, Acc: 0.8275\n"
          ]
        },
        {
          "output_type": "stream",
          "name": "stderr",
          "text": [
            "train:  16%|█▌        | 103/637 [00:11<00:49, 10.86it/s]"
          ]
        },
        {
          "output_type": "stream",
          "name": "stdout",
          "text": [
            "\n",
            "Batch 100/637: Loss: 0.4046, Acc: 0.8209\n"
          ]
        },
        {
          "output_type": "stream",
          "name": "stderr",
          "text": [
            "train:  24%|██▎       | 151/637 [00:16<00:47, 10.30it/s]"
          ]
        },
        {
          "output_type": "stream",
          "name": "stdout",
          "text": [
            "\n",
            "Batch 150/637: Loss: 0.3195, Acc: 0.8217\n"
          ]
        },
        {
          "output_type": "stream",
          "name": "stderr",
          "text": [
            "train:  31%|███▏      | 200/637 [00:21<00:48,  9.09it/s]"
          ]
        },
        {
          "output_type": "stream",
          "name": "stdout",
          "text": [
            "\n",
            "Batch 200/637: Loss: 0.6427, Acc: 0.8245\n"
          ]
        },
        {
          "output_type": "stream",
          "name": "stderr",
          "text": [
            "train:  39%|███▉      | 250/637 [00:26<00:37, 10.32it/s]"
          ]
        },
        {
          "output_type": "stream",
          "name": "stdout",
          "text": [
            "\n",
            "Batch 250/637: Loss: 0.5245, Acc: 0.8257\n"
          ]
        },
        {
          "output_type": "stream",
          "name": "stderr",
          "text": [
            "train:  47%|████▋     | 302/637 [00:32<00:28, 11.66it/s]"
          ]
        },
        {
          "output_type": "stream",
          "name": "stdout",
          "text": [
            "\n",
            "Batch 300/637: Loss: 0.4047, Acc: 0.8242\n"
          ]
        },
        {
          "output_type": "stream",
          "name": "stderr",
          "text": [
            "train:  55%|█████▍    | 350/637 [00:37<00:26, 10.99it/s]"
          ]
        },
        {
          "output_type": "stream",
          "name": "stdout",
          "text": [
            "\n",
            "Batch 350/637: Loss: 0.7069, Acc: 0.8245\n"
          ]
        },
        {
          "output_type": "stream",
          "name": "stderr",
          "text": [
            "train:  63%|██████▎   | 400/637 [00:42<00:25,  9.44it/s]"
          ]
        },
        {
          "output_type": "stream",
          "name": "stdout",
          "text": [
            "\n",
            "Batch 400/637: Loss: 0.6710, Acc: 0.8212\n"
          ]
        },
        {
          "output_type": "stream",
          "name": "stderr",
          "text": [
            "train:  70%|███████   | 449/637 [00:47<00:20,  9.39it/s]"
          ]
        },
        {
          "output_type": "stream",
          "name": "stdout",
          "text": [
            "\n",
            "Batch 450/637: Loss: 0.6391, Acc: 0.8210\n"
          ]
        },
        {
          "output_type": "stream",
          "name": "stderr",
          "text": [
            "train:  78%|███████▊  | 500/637 [00:52<00:12, 11.03it/s]"
          ]
        },
        {
          "output_type": "stream",
          "name": "stdout",
          "text": [
            "\n",
            "Batch 500/637: Loss: 0.5296, Acc: 0.8210\n"
          ]
        },
        {
          "output_type": "stream",
          "name": "stderr",
          "text": [
            "train:  87%|████████▋ | 552/637 [00:58<00:07, 11.05it/s]"
          ]
        },
        {
          "output_type": "stream",
          "name": "stdout",
          "text": [
            "\n",
            "Batch 550/637: Loss: 0.7974, Acc: 0.8201\n"
          ]
        },
        {
          "output_type": "stream",
          "name": "stderr",
          "text": [
            "train:  94%|█████████▍| 600/637 [01:03<00:03, 10.59it/s]"
          ]
        },
        {
          "output_type": "stream",
          "name": "stdout",
          "text": [
            "\n",
            "Batch 600/637: Loss: 0.5335, Acc: 0.8195\n"
          ]
        },
        {
          "output_type": "stream",
          "name": "stderr",
          "text": [
            "train: 100%|██████████| 637/637 [01:07<00:00,  9.40it/s]\n"
          ]
        },
        {
          "output_type": "stream",
          "name": "stdout",
          "text": [
            "train Loss: 0.4925 Acc: 0.8196\n"
          ]
        },
        {
          "output_type": "stream",
          "name": "stderr",
          "text": [
            "val: 100%|██████████| 137/137 [00:14<00:00,  9.21it/s]\n"
          ]
        },
        {
          "output_type": "stream",
          "name": "stdout",
          "text": [
            "val Loss: 0.5551 Acc: 0.7956\n",
            "\n",
            "Epoch 11/20\n",
            "--------------------\n"
          ]
        },
        {
          "output_type": "stream",
          "name": "stderr",
          "text": [
            "train:   8%|▊         | 52/637 [00:05<00:52, 11.21it/s]"
          ]
        },
        {
          "output_type": "stream",
          "name": "stdout",
          "text": [
            "\n",
            "Batch 50/637: Loss: 0.2922, Acc: 0.8500\n"
          ]
        },
        {
          "output_type": "stream",
          "name": "stderr",
          "text": [
            "train:  16%|█▌        | 102/637 [00:11<00:52, 10.19it/s]"
          ]
        },
        {
          "output_type": "stream",
          "name": "stdout",
          "text": [
            "\n",
            "Batch 100/637: Loss: 0.6625, Acc: 0.8522\n"
          ]
        },
        {
          "output_type": "stream",
          "name": "stderr",
          "text": [
            "train:  24%|██▎       | 150/637 [00:16<00:43, 11.13it/s]"
          ]
        },
        {
          "output_type": "stream",
          "name": "stdout",
          "text": [
            "\n",
            "Batch 150/637: Loss: 0.5486, Acc: 0.8479\n"
          ]
        },
        {
          "output_type": "stream",
          "name": "stderr",
          "text": [
            "train:  32%|███▏      | 202/637 [00:21<00:39, 10.90it/s]"
          ]
        },
        {
          "output_type": "stream",
          "name": "stdout",
          "text": [
            "\n",
            "Batch 200/637: Loss: 0.3534, Acc: 0.8453\n"
          ]
        },
        {
          "output_type": "stream",
          "name": "stderr",
          "text": [
            "train:  39%|███▉      | 250/637 [00:26<00:44,  8.64it/s]"
          ]
        },
        {
          "output_type": "stream",
          "name": "stdout",
          "text": [
            "\n",
            "Batch 250/637: Loss: 0.5689, Acc: 0.8440\n"
          ]
        },
        {
          "output_type": "stream",
          "name": "stderr",
          "text": [
            "train:  47%|████▋     | 298/637 [00:31<00:35,  9.43it/s]"
          ]
        },
        {
          "output_type": "stream",
          "name": "stdout",
          "text": [
            "\n",
            "Batch 300/637: Loss: 0.3870, Acc: 0.8405\n"
          ]
        },
        {
          "output_type": "stream",
          "name": "stderr",
          "text": [
            "train:  55%|█████▌    | 352/637 [00:37<00:25, 10.99it/s]"
          ]
        },
        {
          "output_type": "stream",
          "name": "stdout",
          "text": [
            "\n",
            "Batch 350/637: Loss: 0.3996, Acc: 0.8414\n"
          ]
        },
        {
          "output_type": "stream",
          "name": "stderr",
          "text": [
            "train:  63%|██████▎   | 400/637 [00:42<00:20, 11.50it/s]"
          ]
        },
        {
          "output_type": "stream",
          "name": "stdout",
          "text": [
            "\n",
            "Batch 400/637: Loss: 0.3600, Acc: 0.8369\n"
          ]
        },
        {
          "output_type": "stream",
          "name": "stderr",
          "text": [
            "train:  71%|███████   | 453/637 [00:48<00:17, 10.24it/s]"
          ]
        },
        {
          "output_type": "stream",
          "name": "stdout",
          "text": [
            "\n",
            "Batch 450/637: Loss: 0.8679, Acc: 0.8335\n"
          ]
        },
        {
          "output_type": "stream",
          "name": "stderr",
          "text": [
            "train:  78%|███████▊  | 499/637 [00:53<00:15,  8.88it/s]"
          ]
        },
        {
          "output_type": "stream",
          "name": "stdout",
          "text": [
            "\n",
            "Batch 500/637: Loss: 0.4630, Acc: 0.8324\n"
          ]
        },
        {
          "output_type": "stream",
          "name": "stderr",
          "text": [
            "train:  86%|████████▋ | 551/637 [00:59<00:09,  9.15it/s]"
          ]
        },
        {
          "output_type": "stream",
          "name": "stdout",
          "text": [
            "\n",
            "Batch 550/637: Loss: 0.3303, Acc: 0.8323\n"
          ]
        },
        {
          "output_type": "stream",
          "name": "stderr",
          "text": [
            "train:  94%|█████████▍| 599/637 [01:03<00:04,  9.37it/s]"
          ]
        },
        {
          "output_type": "stream",
          "name": "stdout",
          "text": [
            "\n",
            "Batch 600/637: Loss: 0.2480, Acc: 0.8324\n"
          ]
        },
        {
          "output_type": "stream",
          "name": "stderr",
          "text": [
            "train: 100%|██████████| 637/637 [01:07<00:00,  9.39it/s]\n"
          ]
        },
        {
          "output_type": "stream",
          "name": "stdout",
          "text": [
            "train Loss: 0.4624 Acc: 0.8324\n"
          ]
        },
        {
          "output_type": "stream",
          "name": "stderr",
          "text": [
            "val: 100%|██████████| 137/137 [00:14<00:00,  9.28it/s]\n"
          ]
        },
        {
          "output_type": "stream",
          "name": "stdout",
          "text": [
            "val Loss: 0.5773 Acc: 0.7930\n",
            "\n",
            "Epoch 12/20\n",
            "--------------------\n"
          ]
        },
        {
          "output_type": "stream",
          "name": "stderr",
          "text": [
            "train:   8%|▊         | 51/637 [00:05<00:55, 10.54it/s]"
          ]
        },
        {
          "output_type": "stream",
          "name": "stdout",
          "text": [
            "\n",
            "Batch 50/637: Loss: 0.3675, Acc: 0.8525\n"
          ]
        },
        {
          "output_type": "stream",
          "name": "stderr",
          "text": [
            "train:  16%|█▌        | 100/637 [00:10<00:50, 10.54it/s]"
          ]
        },
        {
          "output_type": "stream",
          "name": "stdout",
          "text": [
            "\n",
            "Batch 100/637: Loss: 0.3565, Acc: 0.8447\n"
          ]
        },
        {
          "output_type": "stream",
          "name": "stderr",
          "text": [
            "train:  24%|██▎       | 151/637 [00:16<00:50,  9.68it/s]"
          ]
        },
        {
          "output_type": "stream",
          "name": "stdout",
          "text": [
            "\n",
            "Batch 150/637: Loss: 0.2434, Acc: 0.8440\n"
          ]
        },
        {
          "output_type": "stream",
          "name": "stderr",
          "text": [
            "train:  32%|███▏      | 201/637 [00:21<00:47,  9.24it/s]"
          ]
        },
        {
          "output_type": "stream",
          "name": "stdout",
          "text": [
            "\n",
            "Batch 200/637: Loss: 0.5368, Acc: 0.8403\n"
          ]
        },
        {
          "output_type": "stream",
          "name": "stderr",
          "text": [
            "train:  39%|███▉      | 248/637 [00:26<00:43,  8.93it/s]"
          ]
        },
        {
          "output_type": "stream",
          "name": "stdout",
          "text": [
            "\n",
            "Batch 250/637: Loss: 0.7030, Acc: 0.8414\n"
          ]
        },
        {
          "output_type": "stream",
          "name": "stderr",
          "text": [
            "train:  47%|████▋     | 301/637 [00:32<00:33,  9.93it/s]"
          ]
        },
        {
          "output_type": "stream",
          "name": "stdout",
          "text": [
            "\n",
            "Batch 300/637: Loss: 0.3885, Acc: 0.8415\n"
          ]
        },
        {
          "output_type": "stream",
          "name": "stderr",
          "text": [
            "train:  55%|█████▌    | 351/637 [00:37<00:29,  9.71it/s]"
          ]
        },
        {
          "output_type": "stream",
          "name": "stdout",
          "text": [
            "\n",
            "Batch 350/637: Loss: 0.5554, Acc: 0.8425\n"
          ]
        },
        {
          "output_type": "stream",
          "name": "stderr",
          "text": [
            "train:  62%|██████▏   | 398/637 [00:42<00:26,  8.88it/s]"
          ]
        },
        {
          "output_type": "stream",
          "name": "stdout",
          "text": [
            "\n",
            "Batch 400/637: Loss: 0.4865, Acc: 0.8426\n"
          ]
        },
        {
          "output_type": "stream",
          "name": "stderr",
          "text": [
            "train:  71%|███████   | 450/637 [00:48<00:20,  9.20it/s]"
          ]
        },
        {
          "output_type": "stream",
          "name": "stdout",
          "text": [
            "\n",
            "Batch 450/637: Loss: 0.6833, Acc: 0.8435\n"
          ]
        },
        {
          "output_type": "stream",
          "name": "stderr",
          "text": [
            "train:  78%|███████▊  | 499/637 [00:53<00:14,  9.34it/s]"
          ]
        },
        {
          "output_type": "stream",
          "name": "stdout",
          "text": [
            "\n",
            "Batch 500/637: Loss: 0.3685, Acc: 0.8417\n"
          ]
        },
        {
          "output_type": "stream",
          "name": "stderr",
          "text": [
            "train:  87%|████████▋ | 553/637 [00:58<00:07, 10.96it/s]"
          ]
        },
        {
          "output_type": "stream",
          "name": "stdout",
          "text": [
            "\n",
            "Batch 550/637: Loss: 0.3911, Acc: 0.8423\n"
          ]
        },
        {
          "output_type": "stream",
          "name": "stderr",
          "text": [
            "train:  95%|█████████▍| 602/637 [01:04<00:03, 10.97it/s]"
          ]
        },
        {
          "output_type": "stream",
          "name": "stdout",
          "text": [
            "\n",
            "Batch 600/637: Loss: 0.7038, Acc: 0.8419\n"
          ]
        },
        {
          "output_type": "stream",
          "name": "stderr",
          "text": [
            "train: 100%|██████████| 637/637 [01:07<00:00,  9.38it/s]\n"
          ]
        },
        {
          "output_type": "stream",
          "name": "stdout",
          "text": [
            "train Loss: 0.4426 Acc: 0.8415\n"
          ]
        },
        {
          "output_type": "stream",
          "name": "stderr",
          "text": [
            "val: 100%|██████████| 137/137 [00:14<00:00,  9.30it/s]\n"
          ]
        },
        {
          "output_type": "stream",
          "name": "stdout",
          "text": [
            "val Loss: 0.5584 Acc: 0.8001\n",
            "\n",
            "Epoch 13/20\n",
            "--------------------\n"
          ]
        },
        {
          "output_type": "stream",
          "name": "stderr",
          "text": [
            "train:   8%|▊         | 50/637 [00:05<01:00,  9.64it/s]"
          ]
        },
        {
          "output_type": "stream",
          "name": "stdout",
          "text": [
            "\n",
            "Batch 50/637: Loss: 0.1987, Acc: 0.8556\n"
          ]
        },
        {
          "output_type": "stream",
          "name": "stderr",
          "text": [
            "train:  16%|█▌        | 99/637 [00:10<00:53, 10.10it/s]"
          ]
        },
        {
          "output_type": "stream",
          "name": "stdout",
          "text": [
            "\n",
            "Batch 100/637: Loss: 0.4088, Acc: 0.8591\n"
          ]
        },
        {
          "output_type": "stream",
          "name": "stderr",
          "text": [
            "train:  24%|██▎       | 150/637 [00:16<00:46, 10.49it/s]"
          ]
        },
        {
          "output_type": "stream",
          "name": "stdout",
          "text": [
            "\n",
            "Batch 150/637: Loss: 0.5366, Acc: 0.8535\n"
          ]
        },
        {
          "output_type": "stream",
          "name": "stderr",
          "text": [
            "train:  31%|███▏      | 200/637 [00:21<00:47,  9.28it/s]"
          ]
        },
        {
          "output_type": "stream",
          "name": "stdout",
          "text": [
            "\n",
            "Batch 200/637: Loss: 0.2950, Acc: 0.8534\n"
          ]
        },
        {
          "output_type": "stream",
          "name": "stderr",
          "text": [
            "train:  39%|███▉      | 250/637 [00:26<00:33, 11.57it/s]"
          ]
        },
        {
          "output_type": "stream",
          "name": "stdout",
          "text": [
            "\n",
            "Batch 250/637: Loss: 0.4101, Acc: 0.8498\n"
          ]
        },
        {
          "output_type": "stream",
          "name": "stderr",
          "text": [
            "train:  47%|████▋     | 300/637 [00:32<00:38,  8.85it/s]"
          ]
        },
        {
          "output_type": "stream",
          "name": "stdout",
          "text": [
            "\n",
            "Batch 300/637: Loss: 0.4045, Acc: 0.8504\n"
          ]
        },
        {
          "output_type": "stream",
          "name": "stderr",
          "text": [
            "train:  55%|█████▍    | 350/637 [00:37<00:29,  9.69it/s]"
          ]
        },
        {
          "output_type": "stream",
          "name": "stdout",
          "text": [
            "\n",
            "Batch 350/637: Loss: 0.1863, Acc: 0.8519\n"
          ]
        },
        {
          "output_type": "stream",
          "name": "stderr",
          "text": [
            "train:  63%|██████▎   | 403/637 [00:42<00:23, 10.12it/s]"
          ]
        },
        {
          "output_type": "stream",
          "name": "stdout",
          "text": [
            "\n",
            "Batch 400/637: Loss: 0.3434, Acc: 0.8527\n"
          ]
        },
        {
          "output_type": "stream",
          "name": "stderr",
          "text": [
            "train:  71%|███████   | 450/637 [00:47<00:18, 10.17it/s]"
          ]
        },
        {
          "output_type": "stream",
          "name": "stdout",
          "text": [
            "\n",
            "Batch 450/637: Loss: 0.2940, Acc: 0.8505\n"
          ]
        },
        {
          "output_type": "stream",
          "name": "stderr",
          "text": [
            "train:  79%|███████▉  | 502/637 [00:53<00:13,  9.76it/s]"
          ]
        },
        {
          "output_type": "stream",
          "name": "stdout",
          "text": [
            "\n",
            "Batch 500/637: Loss: 0.5006, Acc: 0.8503\n"
          ]
        },
        {
          "output_type": "stream",
          "name": "stderr",
          "text": [
            "train:  87%|████████▋ | 552/637 [00:58<00:08, 10.04it/s]"
          ]
        },
        {
          "output_type": "stream",
          "name": "stdout",
          "text": [
            "\n",
            "Batch 550/637: Loss: 0.4604, Acc: 0.8490\n"
          ]
        },
        {
          "output_type": "stream",
          "name": "stderr",
          "text": [
            "train:  95%|█████████▍| 602/637 [01:04<00:03, 10.15it/s]"
          ]
        },
        {
          "output_type": "stream",
          "name": "stdout",
          "text": [
            "\n",
            "Batch 600/637: Loss: 0.3239, Acc: 0.8478\n"
          ]
        },
        {
          "output_type": "stream",
          "name": "stderr",
          "text": [
            "train: 100%|██████████| 637/637 [01:07<00:00,  9.38it/s]\n"
          ]
        },
        {
          "output_type": "stream",
          "name": "stdout",
          "text": [
            "train Loss: 0.4206 Acc: 0.8464\n"
          ]
        },
        {
          "output_type": "stream",
          "name": "stderr",
          "text": [
            "val: 100%|██████████| 137/137 [00:14<00:00,  9.46it/s]\n"
          ]
        },
        {
          "output_type": "stream",
          "name": "stdout",
          "text": [
            "val Loss: 0.5774 Acc: 0.8022\n",
            "\n",
            "Epoch 14/20\n",
            "--------------------\n"
          ]
        },
        {
          "output_type": "stream",
          "name": "stderr",
          "text": [
            "train:   8%|▊         | 53/637 [00:05<00:52, 11.21it/s]"
          ]
        },
        {
          "output_type": "stream",
          "name": "stdout",
          "text": [
            "\n",
            "Batch 50/637: Loss: 0.3153, Acc: 0.8644\n"
          ]
        },
        {
          "output_type": "stream",
          "name": "stderr",
          "text": [
            "train:  16%|█▌        | 99/637 [00:10<01:01,  8.72it/s]"
          ]
        },
        {
          "output_type": "stream",
          "name": "stdout",
          "text": [
            "\n",
            "Batch 100/637: Loss: 0.4504, Acc: 0.8712\n"
          ]
        },
        {
          "output_type": "stream",
          "name": "stderr",
          "text": [
            "train:  24%|██▎       | 151/637 [00:16<00:49,  9.87it/s]"
          ]
        },
        {
          "output_type": "stream",
          "name": "stdout",
          "text": [
            "\n",
            "Batch 150/637: Loss: 0.2167, Acc: 0.8727\n"
          ]
        },
        {
          "output_type": "stream",
          "name": "stderr",
          "text": [
            "train:  32%|███▏      | 201/637 [00:21<00:49,  8.79it/s]"
          ]
        },
        {
          "output_type": "stream",
          "name": "stdout",
          "text": [
            "\n",
            "Batch 200/637: Loss: 0.3720, Acc: 0.8703\n"
          ]
        },
        {
          "output_type": "stream",
          "name": "stderr",
          "text": [
            "train:  39%|███▉      | 251/637 [00:26<00:37, 10.41it/s]"
          ]
        },
        {
          "output_type": "stream",
          "name": "stdout",
          "text": [
            "\n",
            "Batch 250/637: Loss: 0.5405, Acc: 0.8671\n"
          ]
        },
        {
          "output_type": "stream",
          "name": "stderr",
          "text": [
            "train:  47%|████▋     | 300/637 [00:31<00:34,  9.83it/s]"
          ]
        },
        {
          "output_type": "stream",
          "name": "stdout",
          "text": [
            "\n",
            "Batch 300/637: Loss: 0.8233, Acc: 0.8640\n"
          ]
        },
        {
          "output_type": "stream",
          "name": "stderr",
          "text": [
            "train:  55%|█████▌    | 353/637 [00:37<00:26, 10.67it/s]"
          ]
        },
        {
          "output_type": "stream",
          "name": "stdout",
          "text": [
            "\n",
            "Batch 350/637: Loss: 0.4084, Acc: 0.8610\n"
          ]
        },
        {
          "output_type": "stream",
          "name": "stderr",
          "text": [
            "train:  63%|██████▎   | 400/637 [00:42<00:23, 10.29it/s]"
          ]
        },
        {
          "output_type": "stream",
          "name": "stdout",
          "text": [
            "\n",
            "Batch 400/637: Loss: 0.3893, Acc: 0.8583\n"
          ]
        },
        {
          "output_type": "stream",
          "name": "stderr",
          "text": [
            "train:  71%|███████   | 451/637 [00:47<00:20,  9.20it/s]"
          ]
        },
        {
          "output_type": "stream",
          "name": "stdout",
          "text": [
            "\n",
            "Batch 450/637: Loss: 0.3657, Acc: 0.8575\n"
          ]
        },
        {
          "output_type": "stream",
          "name": "stderr",
          "text": [
            "train:  78%|███████▊  | 499/637 [00:53<00:14,  9.21it/s]"
          ]
        },
        {
          "output_type": "stream",
          "name": "stdout",
          "text": [
            "\n",
            "Batch 500/637: Loss: 0.5555, Acc: 0.8559\n"
          ]
        },
        {
          "output_type": "stream",
          "name": "stderr",
          "text": [
            "train:  87%|████████▋ | 552/637 [00:58<00:08, 10.07it/s]"
          ]
        },
        {
          "output_type": "stream",
          "name": "stdout",
          "text": [
            "\n",
            "Batch 550/637: Loss: 0.3686, Acc: 0.8555\n"
          ]
        },
        {
          "output_type": "stream",
          "name": "stderr",
          "text": [
            "train:  95%|█████████▍| 602/637 [01:03<00:03,  9.77it/s]"
          ]
        },
        {
          "output_type": "stream",
          "name": "stdout",
          "text": [
            "\n",
            "Batch 600/637: Loss: 0.4228, Acc: 0.8550\n"
          ]
        },
        {
          "output_type": "stream",
          "name": "stderr",
          "text": [
            "train: 100%|██████████| 637/637 [01:07<00:00,  9.44it/s]\n"
          ]
        },
        {
          "output_type": "stream",
          "name": "stdout",
          "text": [
            "train Loss: 0.3980 Acc: 0.8552\n"
          ]
        },
        {
          "output_type": "stream",
          "name": "stderr",
          "text": [
            "val: 100%|██████████| 137/137 [00:14<00:00,  9.48it/s]\n"
          ]
        },
        {
          "output_type": "stream",
          "name": "stdout",
          "text": [
            "val Loss: 0.5786 Acc: 0.8061\n",
            "\n",
            "Epoch 15/20\n",
            "--------------------\n"
          ]
        },
        {
          "output_type": "stream",
          "name": "stderr",
          "text": [
            "train:   8%|▊         | 51/637 [00:05<00:56, 10.43it/s]"
          ]
        },
        {
          "output_type": "stream",
          "name": "stdout",
          "text": [
            "\n",
            "Batch 50/637: Loss: 0.4010, Acc: 0.8656\n"
          ]
        },
        {
          "output_type": "stream",
          "name": "stderr",
          "text": [
            "train:  15%|█▌        | 98/637 [00:10<01:02,  8.58it/s]"
          ]
        },
        {
          "output_type": "stream",
          "name": "stdout",
          "text": [
            "\n",
            "Batch 100/637: Loss: 0.2582, Acc: 0.8706\n"
          ]
        },
        {
          "output_type": "stream",
          "name": "stderr",
          "text": [
            "train:  24%|██▍       | 152/637 [00:16<00:44, 10.79it/s]"
          ]
        },
        {
          "output_type": "stream",
          "name": "stdout",
          "text": [
            "\n",
            "Batch 150/637: Loss: 0.4075, Acc: 0.8702\n"
          ]
        },
        {
          "output_type": "stream",
          "name": "stderr",
          "text": [
            "train:  31%|███▏      | 200/637 [00:21<00:38, 11.33it/s]"
          ]
        },
        {
          "output_type": "stream",
          "name": "stdout",
          "text": [
            "\n",
            "Batch 200/637: Loss: 0.2062, Acc: 0.8642\n"
          ]
        },
        {
          "output_type": "stream",
          "name": "stderr",
          "text": [
            "train:  39%|███▉      | 251/637 [00:26<00:37, 10.40it/s]"
          ]
        },
        {
          "output_type": "stream",
          "name": "stdout",
          "text": [
            "\n",
            "Batch 250/637: Loss: 0.3914, Acc: 0.8675\n"
          ]
        },
        {
          "output_type": "stream",
          "name": "stderr",
          "text": [
            "train:  47%|████▋     | 298/637 [00:31<00:35,  9.44it/s]"
          ]
        },
        {
          "output_type": "stream",
          "name": "stdout",
          "text": [
            "\n",
            "Batch 300/637: Loss: 0.4247, Acc: 0.8677\n"
          ]
        },
        {
          "output_type": "stream",
          "name": "stderr",
          "text": [
            "train:  55%|█████▌    | 351/637 [00:37<00:28, 10.20it/s]"
          ]
        },
        {
          "output_type": "stream",
          "name": "stdout",
          "text": [
            "\n",
            "Batch 350/637: Loss: 0.3255, Acc: 0.8643\n"
          ]
        },
        {
          "output_type": "stream",
          "name": "stderr",
          "text": [
            "train:  63%|██████▎   | 401/637 [00:42<00:24,  9.58it/s]"
          ]
        },
        {
          "output_type": "stream",
          "name": "stdout",
          "text": [
            "\n",
            "Batch 400/637: Loss: 0.6412, Acc: 0.8636\n"
          ]
        },
        {
          "output_type": "stream",
          "name": "stderr",
          "text": [
            "train:  71%|███████   | 453/637 [00:48<00:17, 10.62it/s]"
          ]
        },
        {
          "output_type": "stream",
          "name": "stdout",
          "text": [
            "\n",
            "Batch 450/637: Loss: 0.5155, Acc: 0.8642\n"
          ]
        },
        {
          "output_type": "stream",
          "name": "stderr",
          "text": [
            "train:  79%|███████▊  | 501/637 [00:53<00:12, 10.61it/s]"
          ]
        },
        {
          "output_type": "stream",
          "name": "stdout",
          "text": [
            "\n",
            "Batch 500/637: Loss: 0.3651, Acc: 0.8616\n"
          ]
        },
        {
          "output_type": "stream",
          "name": "stderr",
          "text": [
            "train:  87%|████████▋ | 553/637 [00:58<00:07, 11.43it/s]"
          ]
        },
        {
          "output_type": "stream",
          "name": "stdout",
          "text": [
            "\n",
            "Batch 550/637: Loss: 0.4470, Acc: 0.8615\n"
          ]
        },
        {
          "output_type": "stream",
          "name": "stderr",
          "text": [
            "train:  94%|█████████▍| 601/637 [01:03<00:03, 10.79it/s]"
          ]
        },
        {
          "output_type": "stream",
          "name": "stdout",
          "text": [
            "\n",
            "Batch 600/637: Loss: 0.3751, Acc: 0.8604\n"
          ]
        },
        {
          "output_type": "stream",
          "name": "stderr",
          "text": [
            "train: 100%|██████████| 637/637 [01:07<00:00,  9.44it/s]\n"
          ]
        },
        {
          "output_type": "stream",
          "name": "stdout",
          "text": [
            "train Loss: 0.3881 Acc: 0.8591\n"
          ]
        },
        {
          "output_type": "stream",
          "name": "stderr",
          "text": [
            "val: 100%|██████████| 137/137 [00:14<00:00,  9.28it/s]\n"
          ]
        },
        {
          "output_type": "stream",
          "name": "stdout",
          "text": [
            "val Loss: 0.5509 Acc: 0.7981\n",
            "\n",
            "Epoch 16/20\n",
            "--------------------\n"
          ]
        },
        {
          "output_type": "stream",
          "name": "stderr",
          "text": [
            "train:   8%|▊         | 50/637 [00:05<01:04,  9.17it/s]"
          ]
        },
        {
          "output_type": "stream",
          "name": "stdout",
          "text": [
            "\n",
            "Batch 50/637: Loss: 0.2011, Acc: 0.8725\n"
          ]
        },
        {
          "output_type": "stream",
          "name": "stderr",
          "text": [
            "train:  16%|█▌        | 100/637 [00:11<00:51, 10.51it/s]"
          ]
        },
        {
          "output_type": "stream",
          "name": "stdout",
          "text": [
            "\n",
            "Batch 100/637: Loss: 0.3406, Acc: 0.8753\n"
          ]
        },
        {
          "output_type": "stream",
          "name": "stderr",
          "text": [
            "train:  24%|██▍       | 152/637 [00:16<00:45, 10.56it/s]"
          ]
        },
        {
          "output_type": "stream",
          "name": "stdout",
          "text": [
            "\n",
            "Batch 150/637: Loss: 0.3717, Acc: 0.8719\n"
          ]
        },
        {
          "output_type": "stream",
          "name": "stderr",
          "text": [
            "train:  31%|███       | 198/637 [00:21<00:47,  9.32it/s]"
          ]
        },
        {
          "output_type": "stream",
          "name": "stdout",
          "text": [
            "\n",
            "Batch 200/637: Loss: 0.1902, Acc: 0.8709\n"
          ]
        },
        {
          "output_type": "stream",
          "name": "stderr",
          "text": [
            "train:  39%|███▉      | 250/637 [00:27<00:44,  8.78it/s]"
          ]
        },
        {
          "output_type": "stream",
          "name": "stdout",
          "text": [
            "\n",
            "Batch 250/637: Loss: 0.3613, Acc: 0.8725\n"
          ]
        },
        {
          "output_type": "stream",
          "name": "stderr",
          "text": [
            "train:  47%|████▋     | 298/637 [00:32<00:37,  9.09it/s]"
          ]
        },
        {
          "output_type": "stream",
          "name": "stdout",
          "text": [
            "\n",
            "Batch 300/637: Loss: 0.5394, Acc: 0.8694\n"
          ]
        },
        {
          "output_type": "stream",
          "name": "stderr",
          "text": [
            "train:  55%|█████▌    | 352/637 [00:37<00:25, 11.21it/s]"
          ]
        },
        {
          "output_type": "stream",
          "name": "stdout",
          "text": [
            "\n",
            "Batch 350/637: Loss: 0.2498, Acc: 0.8684\n"
          ]
        },
        {
          "output_type": "stream",
          "name": "stderr",
          "text": [
            "train:  63%|██████▎   | 401/637 [00:43<00:28,  8.28it/s]"
          ]
        },
        {
          "output_type": "stream",
          "name": "stdout",
          "text": [
            "\n",
            "Batch 400/637: Loss: 0.3401, Acc: 0.8674\n"
          ]
        },
        {
          "output_type": "stream",
          "name": "stderr",
          "text": [
            "train:  71%|███████   | 451/637 [00:48<00:17, 10.34it/s]"
          ]
        },
        {
          "output_type": "stream",
          "name": "stdout",
          "text": [
            "\n",
            "Batch 450/637: Loss: 0.4556, Acc: 0.8689\n"
          ]
        },
        {
          "output_type": "stream",
          "name": "stderr",
          "text": [
            "train:  79%|███████▉  | 503/637 [00:53<00:12, 10.34it/s]"
          ]
        },
        {
          "output_type": "stream",
          "name": "stdout",
          "text": [
            "\n",
            "Batch 500/637: Loss: 0.2915, Acc: 0.8681\n"
          ]
        },
        {
          "output_type": "stream",
          "name": "stderr",
          "text": [
            "train:  86%|████████▌ | 549/637 [00:58<00:09,  9.12it/s]"
          ]
        },
        {
          "output_type": "stream",
          "name": "stdout",
          "text": [
            "\n",
            "Batch 550/637: Loss: 0.4370, Acc: 0.8678\n"
          ]
        },
        {
          "output_type": "stream",
          "name": "stderr",
          "text": [
            "train:  95%|█████████▍| 602/637 [01:04<00:03,  8.89it/s]"
          ]
        },
        {
          "output_type": "stream",
          "name": "stdout",
          "text": [
            "\n",
            "Batch 600/637: Loss: 0.2940, Acc: 0.8660\n"
          ]
        },
        {
          "output_type": "stream",
          "name": "stderr",
          "text": [
            "train: 100%|██████████| 637/637 [01:07<00:00,  9.39it/s]\n"
          ]
        },
        {
          "output_type": "stream",
          "name": "stdout",
          "text": [
            "train Loss: 0.3670 Acc: 0.8661\n"
          ]
        },
        {
          "output_type": "stream",
          "name": "stderr",
          "text": [
            "val: 100%|██████████| 137/137 [00:14<00:00,  9.38it/s]\n"
          ]
        },
        {
          "output_type": "stream",
          "name": "stdout",
          "text": [
            "val Loss: 0.5426 Acc: 0.8141\n",
            "\n",
            "Epoch 17/20\n",
            "--------------------\n"
          ]
        },
        {
          "output_type": "stream",
          "name": "stderr",
          "text": [
            "train:   8%|▊         | 50/637 [00:05<01:06,  8.82it/s]"
          ]
        },
        {
          "output_type": "stream",
          "name": "stdout",
          "text": [
            "\n",
            "Batch 50/637: Loss: 0.1048, Acc: 0.8844\n"
          ]
        },
        {
          "output_type": "stream",
          "name": "stderr",
          "text": [
            "train:  16%|█▌        | 100/637 [00:11<00:57,  9.37it/s]"
          ]
        },
        {
          "output_type": "stream",
          "name": "stdout",
          "text": [
            "\n",
            "Batch 100/637: Loss: 0.3645, Acc: 0.8819\n"
          ]
        },
        {
          "output_type": "stream",
          "name": "stderr",
          "text": [
            "train:  24%|██▎       | 150/637 [00:16<00:45, 10.79it/s]"
          ]
        },
        {
          "output_type": "stream",
          "name": "stdout",
          "text": [
            "\n",
            "Batch 150/637: Loss: 0.6013, Acc: 0.8800\n"
          ]
        },
        {
          "output_type": "stream",
          "name": "stderr",
          "text": [
            "train:  31%|███▏      | 200/637 [00:21<00:44,  9.92it/s]"
          ]
        },
        {
          "output_type": "stream",
          "name": "stdout",
          "text": [
            "\n",
            "Batch 200/637: Loss: 0.4169, Acc: 0.8800\n"
          ]
        },
        {
          "output_type": "stream",
          "name": "stderr",
          "text": [
            "train:  39%|███▉      | 250/637 [00:26<00:39,  9.83it/s]"
          ]
        },
        {
          "output_type": "stream",
          "name": "stdout",
          "text": [
            "\n",
            "Batch 250/637: Loss: 0.6784, Acc: 0.8754\n"
          ]
        },
        {
          "output_type": "stream",
          "name": "stderr",
          "text": [
            "train:  47%|████▋     | 302/637 [00:32<00:33, 10.06it/s]"
          ]
        },
        {
          "output_type": "stream",
          "name": "stdout",
          "text": [
            "\n",
            "Batch 300/637: Loss: 0.2471, Acc: 0.8723\n"
          ]
        },
        {
          "output_type": "stream",
          "name": "stderr",
          "text": [
            "train:  55%|█████▍    | 350/637 [00:37<00:26, 10.78it/s]"
          ]
        },
        {
          "output_type": "stream",
          "name": "stdout",
          "text": [
            "\n",
            "Batch 350/637: Loss: 0.1407, Acc: 0.8734\n"
          ]
        },
        {
          "output_type": "stream",
          "name": "stderr",
          "text": [
            "train:  63%|██████▎   | 400/637 [00:43<00:25,  9.17it/s]"
          ]
        },
        {
          "output_type": "stream",
          "name": "stdout",
          "text": [
            "\n",
            "Batch 400/637: Loss: 0.1794, Acc: 0.8718\n"
          ]
        },
        {
          "output_type": "stream",
          "name": "stderr",
          "text": [
            "train:  71%|███████   | 450/637 [00:48<00:17, 10.58it/s]"
          ]
        },
        {
          "output_type": "stream",
          "name": "stdout",
          "text": [
            "\n",
            "Batch 450/637: Loss: 0.1694, Acc: 0.8719\n"
          ]
        },
        {
          "output_type": "stream",
          "name": "stderr",
          "text": [
            "train:  78%|███████▊  | 500/637 [00:53<00:12, 10.60it/s]"
          ]
        },
        {
          "output_type": "stream",
          "name": "stdout",
          "text": [
            "\n",
            "Batch 500/637: Loss: 0.7484, Acc: 0.8716\n"
          ]
        },
        {
          "output_type": "stream",
          "name": "stderr",
          "text": [
            "train:  87%|████████▋ | 553/637 [00:59<00:07, 11.27it/s]"
          ]
        },
        {
          "output_type": "stream",
          "name": "stdout",
          "text": [
            "\n",
            "Batch 550/637: Loss: 0.3086, Acc: 0.8718\n"
          ]
        },
        {
          "output_type": "stream",
          "name": "stderr",
          "text": [
            "train:  94%|█████████▍| 600/637 [01:04<00:03, 10.30it/s]"
          ]
        },
        {
          "output_type": "stream",
          "name": "stdout",
          "text": [
            "\n",
            "Batch 600/637: Loss: 0.2729, Acc: 0.8718\n"
          ]
        },
        {
          "output_type": "stream",
          "name": "stderr",
          "text": [
            "train: 100%|██████████| 637/637 [01:08<00:00,  9.27it/s]\n"
          ]
        },
        {
          "output_type": "stream",
          "name": "stdout",
          "text": [
            "train Loss: 0.3479 Acc: 0.8726\n"
          ]
        },
        {
          "output_type": "stream",
          "name": "stderr",
          "text": [
            "val: 100%|██████████| 137/137 [00:14<00:00,  9.36it/s]\n"
          ]
        },
        {
          "output_type": "stream",
          "name": "stdout",
          "text": [
            "val Loss: 0.6818 Acc: 0.7756\n",
            "\n",
            "Epoch 18/20\n",
            "--------------------\n"
          ]
        },
        {
          "output_type": "stream",
          "name": "stderr",
          "text": [
            "train:   8%|▊         | 51/637 [00:05<01:06,  8.81it/s]"
          ]
        },
        {
          "output_type": "stream",
          "name": "stdout",
          "text": [
            "\n",
            "Batch 50/637: Loss: 0.6538, Acc: 0.9000\n"
          ]
        },
        {
          "output_type": "stream",
          "name": "stderr",
          "text": [
            "train:  16%|█▌        | 100/637 [00:10<00:53, 10.09it/s]"
          ]
        },
        {
          "output_type": "stream",
          "name": "stdout",
          "text": [
            "\n",
            "Batch 100/637: Loss: 0.2786, Acc: 0.8956\n"
          ]
        },
        {
          "output_type": "stream",
          "name": "stderr",
          "text": [
            "train:  24%|██▍       | 153/637 [00:16<00:47, 10.29it/s]"
          ]
        },
        {
          "output_type": "stream",
          "name": "stdout",
          "text": [
            "\n",
            "Batch 150/637: Loss: 0.2565, Acc: 0.8879\n"
          ]
        },
        {
          "output_type": "stream",
          "name": "stderr",
          "text": [
            "train:  32%|███▏      | 201/637 [00:21<00:41, 10.43it/s]"
          ]
        },
        {
          "output_type": "stream",
          "name": "stdout",
          "text": [
            "\n",
            "Batch 200/637: Loss: 0.2978, Acc: 0.8853\n"
          ]
        },
        {
          "output_type": "stream",
          "name": "stderr",
          "text": [
            "train:  39%|███▉      | 251/637 [00:27<00:46,  8.30it/s]"
          ]
        },
        {
          "output_type": "stream",
          "name": "stdout",
          "text": [
            "\n",
            "Batch 250/637: Loss: 0.4588, Acc: 0.8804\n"
          ]
        },
        {
          "output_type": "stream",
          "name": "stderr",
          "text": [
            "train:  47%|████▋     | 301/637 [00:32<00:30, 10.94it/s]"
          ]
        },
        {
          "output_type": "stream",
          "name": "stdout",
          "text": [
            "\n",
            "Batch 300/637: Loss: 0.1848, Acc: 0.8813\n"
          ]
        },
        {
          "output_type": "stream",
          "name": "stderr",
          "text": [
            "train:  55%|█████▌    | 351/637 [00:37<00:31,  9.01it/s]"
          ]
        },
        {
          "output_type": "stream",
          "name": "stdout",
          "text": [
            "\n",
            "Batch 350/637: Loss: 0.2340, Acc: 0.8783\n"
          ]
        },
        {
          "output_type": "stream",
          "name": "stderr",
          "text": [
            "train:  63%|██████▎   | 401/637 [00:43<00:25,  9.31it/s]"
          ]
        },
        {
          "output_type": "stream",
          "name": "stdout",
          "text": [
            "\n",
            "Batch 400/637: Loss: 0.2942, Acc: 0.8777\n"
          ]
        },
        {
          "output_type": "stream",
          "name": "stderr",
          "text": [
            "train:  71%|███████   | 451/637 [00:48<00:18, 10.16it/s]"
          ]
        },
        {
          "output_type": "stream",
          "name": "stdout",
          "text": [
            "\n",
            "Batch 450/637: Loss: 0.4222, Acc: 0.8787\n"
          ]
        },
        {
          "output_type": "stream",
          "name": "stderr",
          "text": [
            "train:  78%|███████▊  | 498/637 [00:53<00:15,  8.96it/s]"
          ]
        },
        {
          "output_type": "stream",
          "name": "stdout",
          "text": [
            "\n",
            "Batch 500/637: Loss: 0.4845, Acc: 0.8776\n"
          ]
        },
        {
          "output_type": "stream",
          "name": "stderr",
          "text": [
            "train:  87%|████████▋ | 552/637 [00:58<00:08, 10.01it/s]"
          ]
        },
        {
          "output_type": "stream",
          "name": "stdout",
          "text": [
            "\n",
            "Batch 550/637: Loss: 0.4672, Acc: 0.8782\n"
          ]
        },
        {
          "output_type": "stream",
          "name": "stderr",
          "text": [
            "train:  94%|█████████▍| 600/637 [01:04<00:04,  8.56it/s]"
          ]
        },
        {
          "output_type": "stream",
          "name": "stdout",
          "text": [
            "\n",
            "Batch 600/637: Loss: 0.5424, Acc: 0.8779\n"
          ]
        },
        {
          "output_type": "stream",
          "name": "stderr",
          "text": [
            "train: 100%|██████████| 637/637 [01:08<00:00,  9.34it/s]\n"
          ]
        },
        {
          "output_type": "stream",
          "name": "stdout",
          "text": [
            "train Loss: 0.3369 Acc: 0.8766\n"
          ]
        },
        {
          "output_type": "stream",
          "name": "stderr",
          "text": [
            "val: 100%|██████████| 137/137 [00:14<00:00,  9.39it/s]\n"
          ]
        },
        {
          "output_type": "stream",
          "name": "stdout",
          "text": [
            "val Loss: 0.5592 Acc: 0.8093\n",
            "\n",
            "Epoch 19/20\n",
            "--------------------\n"
          ]
        },
        {
          "output_type": "stream",
          "name": "stderr",
          "text": [
            "train:   8%|▊         | 52/637 [00:06<00:58, 10.06it/s]"
          ]
        },
        {
          "output_type": "stream",
          "name": "stdout",
          "text": [
            "\n",
            "Batch 50/637: Loss: 0.3127, Acc: 0.9025\n"
          ]
        },
        {
          "output_type": "stream",
          "name": "stderr",
          "text": [
            "train:  15%|█▌        | 98/637 [00:11<01:00,  8.90it/s]"
          ]
        },
        {
          "output_type": "stream",
          "name": "stdout",
          "text": [
            "\n",
            "Batch 100/637: Loss: 0.2741, Acc: 0.9053\n"
          ]
        },
        {
          "output_type": "stream",
          "name": "stderr",
          "text": [
            "train:  24%|██▎       | 151/637 [00:16<00:47, 10.21it/s]"
          ]
        },
        {
          "output_type": "stream",
          "name": "stdout",
          "text": [
            "\n",
            "Batch 150/637: Loss: 0.1634, Acc: 0.9002\n"
          ]
        },
        {
          "output_type": "stream",
          "name": "stderr",
          "text": [
            "train:  31%|███▏      | 200/637 [00:21<00:40, 10.75it/s]"
          ]
        },
        {
          "output_type": "stream",
          "name": "stdout",
          "text": [
            "\n",
            "Batch 200/637: Loss: 0.1226, Acc: 0.8972\n"
          ]
        },
        {
          "output_type": "stream",
          "name": "stderr",
          "text": [
            "train:  39%|███▉      | 250/637 [00:27<00:45,  8.56it/s]"
          ]
        },
        {
          "output_type": "stream",
          "name": "stdout",
          "text": [
            "\n",
            "Batch 250/637: Loss: 0.2920, Acc: 0.8921\n"
          ]
        },
        {
          "output_type": "stream",
          "name": "stderr",
          "text": [
            "train:  47%|████▋     | 300/637 [00:32<00:30, 10.92it/s]"
          ]
        },
        {
          "output_type": "stream",
          "name": "stdout",
          "text": [
            "\n",
            "Batch 300/637: Loss: 0.5950, Acc: 0.8898\n"
          ]
        },
        {
          "output_type": "stream",
          "name": "stderr",
          "text": [
            "train:  55%|█████▍    | 350/637 [00:37<00:30,  9.30it/s]"
          ]
        },
        {
          "output_type": "stream",
          "name": "stdout",
          "text": [
            "\n",
            "Batch 350/637: Loss: 0.2906, Acc: 0.8878\n"
          ]
        },
        {
          "output_type": "stream",
          "name": "stderr",
          "text": [
            "train:  62%|██████▏   | 398/637 [00:43<00:27,  8.75it/s]"
          ]
        },
        {
          "output_type": "stream",
          "name": "stdout",
          "text": [
            "\n",
            "Batch 400/637: Loss: 0.2011, Acc: 0.8886\n"
          ]
        },
        {
          "output_type": "stream",
          "name": "stderr",
          "text": [
            "train:  71%|███████   | 452/637 [00:48<00:16, 10.89it/s]"
          ]
        },
        {
          "output_type": "stream",
          "name": "stdout",
          "text": [
            "\n",
            "Batch 450/637: Loss: 0.6704, Acc: 0.8881\n"
          ]
        },
        {
          "output_type": "stream",
          "name": "stderr",
          "text": [
            "train:  78%|███████▊  | 498/637 [00:53<00:15,  9.26it/s]"
          ]
        },
        {
          "output_type": "stream",
          "name": "stdout",
          "text": [
            "\n",
            "Batch 500/637: Loss: 1.1458, Acc: 0.8871\n"
          ]
        },
        {
          "output_type": "stream",
          "name": "stderr",
          "text": [
            "train:  86%|████████▋ | 551/637 [00:59<00:10,  8.47it/s]"
          ]
        },
        {
          "output_type": "stream",
          "name": "stdout",
          "text": [
            "\n",
            "Batch 550/637: Loss: 0.3359, Acc: 0.8858\n"
          ]
        },
        {
          "output_type": "stream",
          "name": "stderr",
          "text": [
            "train:  94%|█████████▍| 598/637 [01:03<00:04,  9.03it/s]"
          ]
        },
        {
          "output_type": "stream",
          "name": "stdout",
          "text": [
            "\n",
            "Batch 600/637: Loss: 0.5956, Acc: 0.8846\n"
          ]
        },
        {
          "output_type": "stream",
          "name": "stderr",
          "text": [
            "train: 100%|██████████| 637/637 [01:08<00:00,  9.35it/s]\n"
          ]
        },
        {
          "output_type": "stream",
          "name": "stdout",
          "text": [
            "train Loss: 0.3230 Acc: 0.8836\n"
          ]
        },
        {
          "output_type": "stream",
          "name": "stderr",
          "text": [
            "val: 100%|██████████| 137/137 [00:14<00:00,  9.37it/s]\n"
          ]
        },
        {
          "output_type": "stream",
          "name": "stdout",
          "text": [
            "val Loss: 0.5178 Acc: 0.8288\n",
            "\n",
            "Epoch 20/20\n",
            "--------------------\n"
          ]
        },
        {
          "output_type": "stream",
          "name": "stderr",
          "text": [
            "train:   8%|▊         | 50/637 [00:05<01:08,  8.59it/s]"
          ]
        },
        {
          "output_type": "stream",
          "name": "stdout",
          "text": [
            "\n",
            "Batch 50/637: Loss: 0.1463, Acc: 0.9019\n"
          ]
        },
        {
          "output_type": "stream",
          "name": "stderr",
          "text": [
            "train:  16%|█▌        | 102/637 [00:11<00:51, 10.34it/s]"
          ]
        },
        {
          "output_type": "stream",
          "name": "stdout",
          "text": [
            "\n",
            "Batch 100/637: Loss: 0.6263, Acc: 0.8969\n"
          ]
        },
        {
          "output_type": "stream",
          "name": "stderr",
          "text": [
            "train:  24%|██▍       | 152/637 [00:16<00:51,  9.48it/s]"
          ]
        },
        {
          "output_type": "stream",
          "name": "stdout",
          "text": [
            "\n",
            "Batch 150/637: Loss: 0.1658, Acc: 0.8952\n"
          ]
        },
        {
          "output_type": "stream",
          "name": "stderr",
          "text": [
            "train:  31%|███▏      | 200/637 [00:21<00:39, 11.10it/s]"
          ]
        },
        {
          "output_type": "stream",
          "name": "stdout",
          "text": [
            "\n",
            "Batch 200/637: Loss: 0.1775, Acc: 0.8927\n"
          ]
        },
        {
          "output_type": "stream",
          "name": "stderr",
          "text": [
            "train:  40%|███▉      | 253/637 [00:27<00:36, 10.40it/s]"
          ]
        },
        {
          "output_type": "stream",
          "name": "stdout",
          "text": [
            "\n",
            "Batch 250/637: Loss: 0.0708, Acc: 0.8958\n"
          ]
        },
        {
          "output_type": "stream",
          "name": "stderr",
          "text": [
            "train:  47%|████▋     | 299/637 [00:31<00:31, 10.57it/s]"
          ]
        },
        {
          "output_type": "stream",
          "name": "stdout",
          "text": [
            "\n",
            "Batch 300/637: Loss: 0.3116, Acc: 0.8931\n"
          ]
        },
        {
          "output_type": "stream",
          "name": "stderr",
          "text": [
            "train:  55%|█████▌    | 352/637 [00:37<00:27, 10.40it/s]"
          ]
        },
        {
          "output_type": "stream",
          "name": "stdout",
          "text": [
            "\n",
            "Batch 350/637: Loss: 0.4752, Acc: 0.8923\n"
          ]
        },
        {
          "output_type": "stream",
          "name": "stderr",
          "text": [
            "train:  63%|██████▎   | 401/637 [00:42<00:21, 10.96it/s]"
          ]
        },
        {
          "output_type": "stream",
          "name": "stdout",
          "text": [
            "\n",
            "Batch 400/637: Loss: 0.2050, Acc: 0.8907\n"
          ]
        },
        {
          "output_type": "stream",
          "name": "stderr",
          "text": [
            "train:  71%|███████   | 451/637 [00:47<00:17, 10.35it/s]"
          ]
        },
        {
          "output_type": "stream",
          "name": "stdout",
          "text": [
            "\n",
            "Batch 450/637: Loss: 0.2837, Acc: 0.8908\n"
          ]
        },
        {
          "output_type": "stream",
          "name": "stderr",
          "text": [
            "train:  78%|███████▊  | 499/637 [00:53<00:14,  9.24it/s]"
          ]
        },
        {
          "output_type": "stream",
          "name": "stdout",
          "text": [
            "\n",
            "Batch 500/637: Loss: 0.6707, Acc: 0.8903\n"
          ]
        },
        {
          "output_type": "stream",
          "name": "stderr",
          "text": [
            "train:  87%|████████▋ | 552/637 [00:58<00:08, 10.55it/s]"
          ]
        },
        {
          "output_type": "stream",
          "name": "stdout",
          "text": [
            "\n",
            "Batch 550/637: Loss: 0.1568, Acc: 0.8902\n"
          ]
        },
        {
          "output_type": "stream",
          "name": "stderr",
          "text": [
            "train:  94%|█████████▍| 599/637 [01:03<00:04,  9.11it/s]"
          ]
        },
        {
          "output_type": "stream",
          "name": "stdout",
          "text": [
            "\n",
            "Batch 600/637: Loss: 0.2072, Acc: 0.8901\n"
          ]
        },
        {
          "output_type": "stream",
          "name": "stderr",
          "text": [
            "train: 100%|██████████| 637/637 [01:07<00:00,  9.41it/s]\n"
          ]
        },
        {
          "output_type": "stream",
          "name": "stdout",
          "text": [
            "train Loss: 0.3058 Acc: 0.8887\n"
          ]
        },
        {
          "output_type": "stream",
          "name": "stderr",
          "text": [
            "val: 100%|██████████| 137/137 [00:14<00:00,  9.33it/s]"
          ]
        },
        {
          "output_type": "stream",
          "name": "stdout",
          "text": [
            "val Loss: 0.5393 Acc: 0.8267\n",
            "\n",
            "Training complete in 27m 32s\n",
            "Best val Acc: 0.8288\n"
          ]
        },
        {
          "output_type": "stream",
          "name": "stderr",
          "text": [
            "\n"
          ]
        },
        {
          "output_type": "stream",
          "name": "stdout",
          "text": [
            "Test Accuracy: 0.8027\n"
          ]
        },
        {
          "output_type": "display_data",
          "data": {
            "text/plain": [
              "<Figure size 1200x1000 with 2 Axes>"
            ],
            "image/png": "[encoded data removed]"
          },
          "metadata": {}
        },
        {
          "output_type": "stream",
          "name": "stdout",
          "text": [
            "\n",
            "Classification Report:\n",
            "                  precision    recall  f1-score   support\n",
            "\n",
            "Dangerous: AKIEC       0.55      0.32      0.41       128\n",
            "  Dangerous: BCC       0.77      0.72      0.75       402\n",
            "  Dangerous: MEL       0.72      0.65      0.68       786\n",
            "  Dangerous: SCC       0.33      0.38      0.36        68\n",
            "      Minor: BKL       0.67      0.75      0.71       469\n",
            "       Minor: NV       0.88      0.92      0.90      2424\n",
            "Other conditions       0.70      0.63      0.66        91\n",
            "\n",
            "        accuracy                           0.80      4368\n",
            "       macro avg       0.66      0.62      0.64      4368\n",
            "    weighted avg       0.80      0.80      0.80      4368\n",
            "\n",
            "Model saved to '/content/skin_lesion_classifier.pth'\n"
          ]
        }
      ]
    }
  ]
}
